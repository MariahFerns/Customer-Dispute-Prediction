{
  "cells": [
    {
      "cell_type": "markdown",
      "metadata": {
        "id": "KPpvecwEpopQ"
      },
      "source": [
        "## Mini Project 2"
      ]
    },
    {
      "cell_type": "markdown",
      "metadata": {
        "id": "qdiFBmcBpopt"
      },
      "source": [
        "#### Import required libraries"
      ]
    },
    {
      "cell_type": "code",
      "execution_count": null,
      "metadata": {
        "id": "nRvORrhJpopv"
      },
      "outputs": [],
      "source": [
        "import numpy as np\n",
        "import pandas as pd\n",
        "import matplotlib.pyplot as plt\n",
        "import seaborn as sns\n",
        "import warnings\n",
        "warnings.filterwarnings('ignore')\n",
        "%matplotlib inline"
      ]
    },
    {
      "cell_type": "markdown",
      "metadata": {
        "id": "9psaFBmPpop0"
      },
      "source": [
        "#### Load given datasets"
      ]
    },
    {
      "cell_type": "code",
      "execution_count": null,
      "metadata": {
        "id": "q3hRmG1Zpop3"
      },
      "outputs": [],
      "source": [
        "train_orig = pd.read_csv(r'C:\\Users\\maria\\OneDrive\\Documents\\EDU\\INTERNSHIP\\Projects\\PROJECT 2 - CUSTOMER COMPLAINT\\Datasets\\Consumer_Complaints_train.csv')\n",
        "test_orig = pd.read_csv(r'C:\\Users\\maria\\OneDrive\\Documents\\EDU\\INTERNSHIP\\Projects\\PROJECT 2 - CUSTOMER COMPLAINT\\Datasets\\Consumer_Complaints_test.csv')\n",
        "\n",
        "# Creating copies of original datasets for transformation\n",
        "train = train_orig.copy()\n",
        "test = test_orig.copy()"
      ]
    },
    {
      "cell_type": "markdown",
      "metadata": {
        "id": "Xp8W3eXcpop5"
      },
      "source": [
        "#### Print top 5 records of train dataset"
      ]
    },
    {
      "cell_type": "code",
      "execution_count": null,
      "metadata": {
        "id": "w1b67V24pop6",
        "outputId": "5b5aff45-9a9f-4b3b-9bf6-1af6c2d10d89"
      },
      "outputs": [
        {
          "data": {
            "text/html": [
              "<div>\n",
              "<style scoped>\n",
              "    .dataframe tbody tr th:only-of-type {\n",
              "        vertical-align: middle;\n",
              "    }\n",
              "\n",
              "    .dataframe tbody tr th {\n",
              "        vertical-align: top;\n",
              "    }\n",
              "\n",
              "    .dataframe thead th {\n",
              "        text-align: right;\n",
              "    }\n",
              "</style>\n",
              "<table border=\"1\" class=\"dataframe\">\n",
              "  <thead>\n",
              "    <tr style=\"text-align: right;\">\n",
              "      <th></th>\n",
              "      <th>Date received</th>\n",
              "      <th>Product</th>\n",
              "      <th>Sub-product</th>\n",
              "      <th>Issue</th>\n",
              "      <th>Sub-issue</th>\n",
              "      <th>Consumer complaint narrative</th>\n",
              "      <th>Company public response</th>\n",
              "      <th>Company</th>\n",
              "      <th>State</th>\n",
              "      <th>ZIP code</th>\n",
              "      <th>Tags</th>\n",
              "      <th>Consumer consent provided?</th>\n",
              "      <th>Submitted via</th>\n",
              "      <th>Date sent to company</th>\n",
              "      <th>Company response to consumer</th>\n",
              "      <th>Timely response?</th>\n",
              "      <th>Consumer disputed?</th>\n",
              "      <th>Complaint ID</th>\n",
              "    </tr>\n",
              "  </thead>\n",
              "  <tbody>\n",
              "    <tr>\n",
              "      <th>0</th>\n",
              "      <td>2015-10-14</td>\n",
              "      <td>Credit reporting</td>\n",
              "      <td>NaN</td>\n",
              "      <td>Incorrect information on credit report</td>\n",
              "      <td>Information is not mine</td>\n",
              "      <td>NaN</td>\n",
              "      <td>NaN</td>\n",
              "      <td>Equifax</td>\n",
              "      <td>GA</td>\n",
              "      <td>30134</td>\n",
              "      <td>NaN</td>\n",
              "      <td>Consent not provided</td>\n",
              "      <td>Web</td>\n",
              "      <td>2015-10-14</td>\n",
              "      <td>Closed with explanation</td>\n",
              "      <td>Yes</td>\n",
              "      <td>No</td>\n",
              "      <td>1605653</td>\n",
              "    </tr>\n",
              "    <tr>\n",
              "      <th>1</th>\n",
              "      <td>2015-04-26</td>\n",
              "      <td>Bank account or service</td>\n",
              "      <td>Other bank product/service</td>\n",
              "      <td>Deposits and withdrawals</td>\n",
              "      <td>NaN</td>\n",
              "      <td>RE : XXXX XXXX XXXX-PRIVILEGED AND CONFIDENTIA...</td>\n",
              "      <td>NaN</td>\n",
              "      <td>Wells Fargo &amp; Company</td>\n",
              "      <td>GA</td>\n",
              "      <td>319XX</td>\n",
              "      <td>NaN</td>\n",
              "      <td>Consent provided</td>\n",
              "      <td>Web</td>\n",
              "      <td>2015-04-26</td>\n",
              "      <td>Closed with explanation</td>\n",
              "      <td>Yes</td>\n",
              "      <td>Yes</td>\n",
              "      <td>1347613</td>\n",
              "    </tr>\n",
              "    <tr>\n",
              "      <th>2</th>\n",
              "      <td>2013-12-20</td>\n",
              "      <td>Credit card</td>\n",
              "      <td>NaN</td>\n",
              "      <td>Other</td>\n",
              "      <td>NaN</td>\n",
              "      <td>NaN</td>\n",
              "      <td>NaN</td>\n",
              "      <td>Citibank</td>\n",
              "      <td>SC</td>\n",
              "      <td>29203</td>\n",
              "      <td>NaN</td>\n",
              "      <td>NaN</td>\n",
              "      <td>Phone</td>\n",
              "      <td>2014-01-03</td>\n",
              "      <td>Closed with non-monetary relief</td>\n",
              "      <td>Yes</td>\n",
              "      <td>No</td>\n",
              "      <td>640394</td>\n",
              "    </tr>\n",
              "    <tr>\n",
              "      <th>3</th>\n",
              "      <td>2016-03-03</td>\n",
              "      <td>Debt collection</td>\n",
              "      <td>Other (i.e. phone, health club, etc.)</td>\n",
              "      <td>Disclosure verification of debt</td>\n",
              "      <td>Not given enough info to verify debt</td>\n",
              "      <td>NaN</td>\n",
              "      <td>Company has responded to the consumer and the ...</td>\n",
              "      <td>FAIR COLLECTIONS &amp; OUTSOURCING, INC.</td>\n",
              "      <td>OH</td>\n",
              "      <td>43082</td>\n",
              "      <td>NaN</td>\n",
              "      <td>NaN</td>\n",
              "      <td>Referral</td>\n",
              "      <td>2016-03-04</td>\n",
              "      <td>Closed with explanation</td>\n",
              "      <td>Yes</td>\n",
              "      <td>No</td>\n",
              "      <td>1815134</td>\n",
              "    </tr>\n",
              "    <tr>\n",
              "      <th>4</th>\n",
              "      <td>2015-01-30</td>\n",
              "      <td>Debt collection</td>\n",
              "      <td>Medical</td>\n",
              "      <td>Disclosure verification of debt</td>\n",
              "      <td>Not given enough info to verify debt</td>\n",
              "      <td>NaN</td>\n",
              "      <td>NaN</td>\n",
              "      <td>HCFS Health Care Financial Services, Inc.</td>\n",
              "      <td>CA</td>\n",
              "      <td>90036</td>\n",
              "      <td>NaN</td>\n",
              "      <td>NaN</td>\n",
              "      <td>Web</td>\n",
              "      <td>2015-01-30</td>\n",
              "      <td>Closed with explanation</td>\n",
              "      <td>Yes</td>\n",
              "      <td>Yes</td>\n",
              "      <td>1218613</td>\n",
              "    </tr>\n",
              "  </tbody>\n",
              "</table>\n",
              "</div>"
            ],
            "text/plain": [
              "  Date received                  Product  \\\n",
              "0    2015-10-14         Credit reporting   \n",
              "1    2015-04-26  Bank account or service   \n",
              "2    2013-12-20              Credit card   \n",
              "3    2016-03-03          Debt collection   \n",
              "4    2015-01-30          Debt collection   \n",
              "\n",
              "                             Sub-product  \\\n",
              "0                                    NaN   \n",
              "1             Other bank product/service   \n",
              "2                                    NaN   \n",
              "3  Other (i.e. phone, health club, etc.)   \n",
              "4                                Medical   \n",
              "\n",
              "                                    Issue  \\\n",
              "0  Incorrect information on credit report   \n",
              "1                Deposits and withdrawals   \n",
              "2                                   Other   \n",
              "3         Disclosure verification of debt   \n",
              "4         Disclosure verification of debt   \n",
              "\n",
              "                              Sub-issue  \\\n",
              "0               Information is not mine   \n",
              "1                                   NaN   \n",
              "2                                   NaN   \n",
              "3  Not given enough info to verify debt   \n",
              "4  Not given enough info to verify debt   \n",
              "\n",
              "                        Consumer complaint narrative  \\\n",
              "0                                                NaN   \n",
              "1  RE : XXXX XXXX XXXX-PRIVILEGED AND CONFIDENTIA...   \n",
              "2                                                NaN   \n",
              "3                                                NaN   \n",
              "4                                                NaN   \n",
              "\n",
              "                             Company public response  \\\n",
              "0                                                NaN   \n",
              "1                                                NaN   \n",
              "2                                                NaN   \n",
              "3  Company has responded to the consumer and the ...   \n",
              "4                                                NaN   \n",
              "\n",
              "                                     Company State ZIP code Tags  \\\n",
              "0                                    Equifax    GA    30134  NaN   \n",
              "1                      Wells Fargo & Company    GA    319XX  NaN   \n",
              "2                                   Citibank    SC    29203  NaN   \n",
              "3       FAIR COLLECTIONS & OUTSOURCING, INC.    OH    43082  NaN   \n",
              "4  HCFS Health Care Financial Services, Inc.    CA    90036  NaN   \n",
              "\n",
              "  Consumer consent provided? Submitted via Date sent to company  \\\n",
              "0       Consent not provided           Web           2015-10-14   \n",
              "1           Consent provided           Web           2015-04-26   \n",
              "2                        NaN         Phone           2014-01-03   \n",
              "3                        NaN      Referral           2016-03-04   \n",
              "4                        NaN           Web           2015-01-30   \n",
              "\n",
              "      Company response to consumer Timely response? Consumer disputed?  \\\n",
              "0          Closed with explanation              Yes                 No   \n",
              "1          Closed with explanation              Yes                Yes   \n",
              "2  Closed with non-monetary relief              Yes                 No   \n",
              "3          Closed with explanation              Yes                 No   \n",
              "4          Closed with explanation              Yes                Yes   \n",
              "\n",
              "   Complaint ID  \n",
              "0       1605653  \n",
              "1       1347613  \n",
              "2        640394  \n",
              "3       1815134  \n",
              "4       1218613  "
            ]
          },
          "execution_count": 3,
          "metadata": {},
          "output_type": "execute_result"
        }
      ],
      "source": [
        "train.head()"
      ]
    },
    {
      "cell_type": "markdown",
      "metadata": {
        "id": "vy0goz35pop7"
      },
      "source": [
        "#### Print top 5 records of test dataset"
      ]
    },
    {
      "cell_type": "code",
      "execution_count": null,
      "metadata": {
        "id": "M1GqR9Agpop9",
        "outputId": "03593122-e465-46aa-f391-af9bad4cdc53"
      },
      "outputs": [
        {
          "data": {
            "text/html": [
              "<div>\n",
              "<style scoped>\n",
              "    .dataframe tbody tr th:only-of-type {\n",
              "        vertical-align: middle;\n",
              "    }\n",
              "\n",
              "    .dataframe tbody tr th {\n",
              "        vertical-align: top;\n",
              "    }\n",
              "\n",
              "    .dataframe thead th {\n",
              "        text-align: right;\n",
              "    }\n",
              "</style>\n",
              "<table border=\"1\" class=\"dataframe\">\n",
              "  <thead>\n",
              "    <tr style=\"text-align: right;\">\n",
              "      <th></th>\n",
              "      <th>Date received</th>\n",
              "      <th>Product</th>\n",
              "      <th>Sub-product</th>\n",
              "      <th>Issue</th>\n",
              "      <th>Sub-issue</th>\n",
              "      <th>Consumer complaint narrative</th>\n",
              "      <th>Company public response</th>\n",
              "      <th>Company</th>\n",
              "      <th>State</th>\n",
              "      <th>ZIP code</th>\n",
              "      <th>Tags</th>\n",
              "      <th>Consumer consent provided?</th>\n",
              "      <th>Submitted via</th>\n",
              "      <th>Date sent to company</th>\n",
              "      <th>Company response to consumer</th>\n",
              "      <th>Timely response?</th>\n",
              "      <th>Complaint ID</th>\n",
              "    </tr>\n",
              "  </thead>\n",
              "  <tbody>\n",
              "    <tr>\n",
              "      <th>0</th>\n",
              "      <td>2015-01-17</td>\n",
              "      <td>Credit card</td>\n",
              "      <td>NaN</td>\n",
              "      <td>Customer service / Customer relations</td>\n",
              "      <td>NaN</td>\n",
              "      <td>NaN</td>\n",
              "      <td>NaN</td>\n",
              "      <td>Citibank</td>\n",
              "      <td>TX</td>\n",
              "      <td>75241</td>\n",
              "      <td>NaN</td>\n",
              "      <td>NaN</td>\n",
              "      <td>Web</td>\n",
              "      <td>2015-01-17</td>\n",
              "      <td>Closed with monetary relief</td>\n",
              "      <td>Yes</td>\n",
              "      <td>1198133</td>\n",
              "    </tr>\n",
              "    <tr>\n",
              "      <th>1</th>\n",
              "      <td>2016-06-22</td>\n",
              "      <td>Consumer Loan</td>\n",
              "      <td>Title loan</td>\n",
              "      <td>Payment to acct not credited</td>\n",
              "      <td>NaN</td>\n",
              "      <td>NaN</td>\n",
              "      <td>Company believes it acted appropriately as aut...</td>\n",
              "      <td>Larsen MacColl Partners II, L.P.</td>\n",
              "      <td>TX</td>\n",
              "      <td>76548</td>\n",
              "      <td>Servicemember</td>\n",
              "      <td>NaN</td>\n",
              "      <td>Phone</td>\n",
              "      <td>2016-06-22</td>\n",
              "      <td>Closed with explanation</td>\n",
              "      <td>Yes</td>\n",
              "      <td>1979989</td>\n",
              "    </tr>\n",
              "    <tr>\n",
              "      <th>2</th>\n",
              "      <td>2015-09-04</td>\n",
              "      <td>Credit card</td>\n",
              "      <td>NaN</td>\n",
              "      <td>Credit line increase/decrease</td>\n",
              "      <td>NaN</td>\n",
              "      <td>I WANT TO REQUEST A CREDIT LINE INCREASE OF XX...</td>\n",
              "      <td>NaN</td>\n",
              "      <td>Capital One</td>\n",
              "      <td>NC</td>\n",
              "      <td>271XX</td>\n",
              "      <td>NaN</td>\n",
              "      <td>Consent provided</td>\n",
              "      <td>Web</td>\n",
              "      <td>2015-09-04</td>\n",
              "      <td>Closed with explanation</td>\n",
              "      <td>Yes</td>\n",
              "      <td>1552090</td>\n",
              "    </tr>\n",
              "    <tr>\n",
              "      <th>3</th>\n",
              "      <td>2016-05-17</td>\n",
              "      <td>Consumer Loan</td>\n",
              "      <td>Installment loan</td>\n",
              "      <td>Problems when you are unable to pay</td>\n",
              "      <td>NaN</td>\n",
              "      <td>I have asked One Main Financial not to call my...</td>\n",
              "      <td>NaN</td>\n",
              "      <td>OneMain Financial Holdings, LLC</td>\n",
              "      <td>MO</td>\n",
              "      <td>634XX</td>\n",
              "      <td>NaN</td>\n",
              "      <td>Consent provided</td>\n",
              "      <td>Web</td>\n",
              "      <td>2016-05-20</td>\n",
              "      <td>Closed with non-monetary relief</td>\n",
              "      <td>Yes</td>\n",
              "      <td>1929306</td>\n",
              "    </tr>\n",
              "    <tr>\n",
              "      <th>4</th>\n",
              "      <td>2016-07-07</td>\n",
              "      <td>Debt collection</td>\n",
              "      <td>Other (i.e. phone, health club, etc.)</td>\n",
              "      <td>Improper contact or sharing of info</td>\n",
              "      <td>Contacted employer after asked not to</td>\n",
              "      <td>I have received several calls from a XXXX XXXX...</td>\n",
              "      <td>Company has responded to the consumer and the ...</td>\n",
              "      <td>GMA Investments, LLC</td>\n",
              "      <td>SC</td>\n",
              "      <td>296XX</td>\n",
              "      <td>NaN</td>\n",
              "      <td>Consent provided</td>\n",
              "      <td>Web</td>\n",
              "      <td>2016-07-07</td>\n",
              "      <td>Closed with explanation</td>\n",
              "      <td>Yes</td>\n",
              "      <td>2001667</td>\n",
              "    </tr>\n",
              "  </tbody>\n",
              "</table>\n",
              "</div>"
            ],
            "text/plain": [
              "  Date received          Product                            Sub-product  \\\n",
              "0    2015-01-17      Credit card                                    NaN   \n",
              "1    2016-06-22    Consumer Loan                             Title loan   \n",
              "2    2015-09-04      Credit card                                    NaN   \n",
              "3    2016-05-17    Consumer Loan                       Installment loan   \n",
              "4    2016-07-07  Debt collection  Other (i.e. phone, health club, etc.)   \n",
              "\n",
              "                                   Issue  \\\n",
              "0  Customer service / Customer relations   \n",
              "1           Payment to acct not credited   \n",
              "2          Credit line increase/decrease   \n",
              "3    Problems when you are unable to pay   \n",
              "4    Improper contact or sharing of info   \n",
              "\n",
              "                               Sub-issue  \\\n",
              "0                                    NaN   \n",
              "1                                    NaN   \n",
              "2                                    NaN   \n",
              "3                                    NaN   \n",
              "4  Contacted employer after asked not to   \n",
              "\n",
              "                        Consumer complaint narrative  \\\n",
              "0                                                NaN   \n",
              "1                                                NaN   \n",
              "2  I WANT TO REQUEST A CREDIT LINE INCREASE OF XX...   \n",
              "3  I have asked One Main Financial not to call my...   \n",
              "4  I have received several calls from a XXXX XXXX...   \n",
              "\n",
              "                             Company public response  \\\n",
              "0                                                NaN   \n",
              "1  Company believes it acted appropriately as aut...   \n",
              "2                                                NaN   \n",
              "3                                                NaN   \n",
              "4  Company has responded to the consumer and the ...   \n",
              "\n",
              "                            Company State ZIP code           Tags  \\\n",
              "0                          Citibank    TX    75241            NaN   \n",
              "1  Larsen MacColl Partners II, L.P.    TX    76548  Servicemember   \n",
              "2                       Capital One    NC    271XX            NaN   \n",
              "3   OneMain Financial Holdings, LLC    MO    634XX            NaN   \n",
              "4              GMA Investments, LLC    SC    296XX            NaN   \n",
              "\n",
              "  Consumer consent provided? Submitted via Date sent to company  \\\n",
              "0                        NaN           Web           2015-01-17   \n",
              "1                        NaN         Phone           2016-06-22   \n",
              "2           Consent provided           Web           2015-09-04   \n",
              "3           Consent provided           Web           2016-05-20   \n",
              "4           Consent provided           Web           2016-07-07   \n",
              "\n",
              "      Company response to consumer Timely response?  Complaint ID  \n",
              "0      Closed with monetary relief              Yes       1198133  \n",
              "1          Closed with explanation              Yes       1979989  \n",
              "2          Closed with explanation              Yes       1552090  \n",
              "3  Closed with non-monetary relief              Yes       1929306  \n",
              "4          Closed with explanation              Yes       2001667  "
            ]
          },
          "execution_count": 4,
          "metadata": {},
          "output_type": "execute_result"
        }
      ],
      "source": [
        "test.head()"
      ]
    },
    {
      "cell_type": "markdown",
      "metadata": {
        "id": "KzRBJoR7pop-"
      },
      "source": [
        "**Note: Please note that do all given tasks for test and train both datasets.**"
      ]
    },
    {
      "cell_type": "markdown",
      "metadata": {
        "id": "pbq7pvmGpop_"
      },
      "source": [
        "#### Print shape of train and test datasets"
      ]
    },
    {
      "cell_type": "code",
      "execution_count": null,
      "metadata": {
        "id": "eFPXZRfMpoqA",
        "outputId": "847cfd05-1e9d-444b-91ab-4cbe388d9c3e"
      },
      "outputs": [
        {
          "name": "stdout",
          "output_type": "stream",
          "text": [
            "Shape of train dataset:  (358810, 18)\n",
            "Shape of test dataset:  (119606, 17)\n"
          ]
        }
      ],
      "source": [
        "print('Shape of train dataset: ',train.shape)\n",
        "print('Shape of test dataset: ',test.shape)"
      ]
    },
    {
      "cell_type": "markdown",
      "metadata": {
        "id": "7oPnYhOapoqA"
      },
      "source": [
        "#### Print columns of train and test datasets"
      ]
    },
    {
      "cell_type": "code",
      "execution_count": null,
      "metadata": {
        "id": "iPzUL5fUpoqB",
        "outputId": "ad76b5a6-4350-4ea4-c337-ee96276b7853"
      },
      "outputs": [
        {
          "name": "stdout",
          "output_type": "stream",
          "text": [
            "Columns in train dataset: \n",
            " Index(['Date received', 'Product', 'Sub-product', 'Issue', 'Sub-issue',\n",
            "       'Consumer complaint narrative', 'Company public response', 'Company',\n",
            "       'State', 'ZIP code', 'Tags', 'Consumer consent provided?',\n",
            "       'Submitted via', 'Date sent to company', 'Company response to consumer',\n",
            "       'Timely response?', 'Consumer disputed?', 'Complaint ID'],\n",
            "      dtype='object') \n",
            "\n",
            "Columns in test dataset: \n",
            " Index(['Date received', 'Product', 'Sub-product', 'Issue', 'Sub-issue',\n",
            "       'Consumer complaint narrative', 'Company public response', 'Company',\n",
            "       'State', 'ZIP code', 'Tags', 'Consumer consent provided?',\n",
            "       'Submitted via', 'Date sent to company', 'Company response to consumer',\n",
            "       'Timely response?', 'Complaint ID'],\n",
            "      dtype='object')\n"
          ]
        }
      ],
      "source": [
        "print('Columns in train dataset: \\n',train.columns,'\\n')\n",
        "print('Columns in test dataset: \\n',test.columns)"
      ]
    },
    {
      "cell_type": "markdown",
      "metadata": {
        "id": "0HiyNNaKpoqC"
      },
      "source": [
        "#### Check data type for both datasets"
      ]
    },
    {
      "cell_type": "code",
      "execution_count": null,
      "metadata": {
        "id": "vxGdAynspoqC",
        "outputId": "693f7fa6-b152-4164-d6b9-d4afa1457498"
      },
      "outputs": [
        {
          "name": "stdout",
          "output_type": "stream",
          "text": [
            "<class 'pandas.core.frame.DataFrame'>\n",
            "RangeIndex: 358810 entries, 0 to 358809\n",
            "Data columns (total 18 columns):\n",
            " #   Column                        Non-Null Count   Dtype \n",
            "---  ------                        --------------   ----- \n",
            " 0   Date received                 358810 non-null  object\n",
            " 1   Product                       358810 non-null  object\n",
            " 2   Sub-product                   255024 non-null  object\n",
            " 3   Issue                         358810 non-null  object\n",
            " 4   Sub-issue                     139436 non-null  object\n",
            " 5   Consumer complaint narrative  56180 non-null   object\n",
            " 6   Company public response       67931 non-null   object\n",
            " 7   Company                       358810 non-null  object\n",
            " 8   State                         355907 non-null  object\n",
            " 9   ZIP code                      355899 non-null  object\n",
            " 10  Tags                          50226 non-null   object\n",
            " 11  Consumer consent provided?    101580 non-null  object\n",
            " 12  Submitted via                 358810 non-null  object\n",
            " 13  Date sent to company          358810 non-null  object\n",
            " 14  Company response to consumer  358810 non-null  object\n",
            " 15  Timely response?              358810 non-null  object\n",
            " 16  Consumer disputed?            358810 non-null  object\n",
            " 17  Complaint ID                  358810 non-null  int64 \n",
            "dtypes: int64(1), object(17)\n",
            "memory usage: 413.1 MB\n"
          ]
        }
      ],
      "source": [
        "train.info(memory_usage='deep')"
      ]
    },
    {
      "cell_type": "markdown",
      "metadata": {
        "id": "_FQ1B-bnDMNc"
      },
      "source": [
        "- The `train` dataset has:\n",
        "- 18 features (17 categorical and 1 numerical)\n",
        "- 358810 observations\n",
        "- 8 features with missing values: ['Sub-product'], ['Sub-issue'], ['Consumer complaint narrative'], ['Company public response'], ['State'], ['ZIP code'], ['Tags'], ['Consumer consent provided?']\n",
        "- Dataset fits in 413 MB\n",
        "\n",
        "The target variable is ['Consumer disputed?']"
      ]
    },
    {
      "cell_type": "code",
      "execution_count": null,
      "metadata": {
        "id": "2DYuMCJPDMNc",
        "outputId": "5514f16d-4a82-4371-be41-9757c1aa4047"
      },
      "outputs": [
        {
          "name": "stdout",
          "output_type": "stream",
          "text": [
            "<class 'pandas.core.frame.DataFrame'>\n",
            "RangeIndex: 119606 entries, 0 to 119605\n",
            "Data columns (total 17 columns):\n",
            " #   Column                        Non-Null Count   Dtype \n",
            "---  ------                        --------------   ----- \n",
            " 0   Date received                 119606 non-null  object\n",
            " 1   Product                       119606 non-null  object\n",
            " 2   Sub-product                   84923 non-null   object\n",
            " 3   Issue                         119606 non-null  object\n",
            " 4   Sub-issue                     46356 non-null   object\n",
            " 5   Consumer complaint narrative  18914 non-null   object\n",
            " 6   Company public response       22460 non-null   object\n",
            " 7   Company                       119606 non-null  object\n",
            " 8   State                         118670 non-null  object\n",
            " 9   ZIP code                      118669 non-null  object\n",
            " 10  Tags                          16977 non-null   object\n",
            " 11  Consumer consent provided?    33907 non-null   object\n",
            " 12  Submitted via                 119606 non-null  object\n",
            " 13  Date sent to company          119606 non-null  object\n",
            " 14  Company response to consumer  119606 non-null  object\n",
            " 15  Timely response?              119606 non-null  object\n",
            " 16  Complaint ID                  119606 non-null  int64 \n",
            "dtypes: int64(1), object(16)\n",
            "memory usage: 131.3 MB\n"
          ]
        }
      ],
      "source": [
        "test.info(memory_usage='deep')"
      ]
    },
    {
      "cell_type": "markdown",
      "metadata": {
        "id": "bLuxvPTupoqD"
      },
      "source": [
        "#### Print missing values in percentage"
      ]
    },
    {
      "cell_type": "code",
      "execution_count": null,
      "metadata": {
        "id": "MGG5jiynpoqD",
        "outputId": "2be82fcb-3dce-4bdc-f0a5-04b5d69a2358"
      },
      "outputs": [
        {
          "data": {
            "text/plain": [
              "Tags                            0.860021\n",
              "Consumer complaint narrative    0.843427\n",
              "Company public response         0.810677\n",
              "Consumer consent provided?      0.716898\n",
              "Sub-issue                       0.611393\n",
              "Sub-product                     0.289251\n",
              "ZIP code                        0.008113\n",
              "State                           0.008091\n",
              "Date sent to company            0.000000\n",
              "Consumer disputed?              0.000000\n",
              "Timely response?                0.000000\n",
              "Company response to consumer    0.000000\n",
              "Date received                   0.000000\n",
              "Submitted via                   0.000000\n",
              "Product                         0.000000\n",
              "Company                         0.000000\n",
              "Issue                           0.000000\n",
              "Complaint ID                    0.000000\n",
              "dtype: float64"
            ]
          },
          "execution_count": 9,
          "metadata": {},
          "output_type": "execute_result"
        }
      ],
      "source": [
        "# Missing values in train dataset\n",
        "\n",
        "train.isnull().mean().sort_values(ascending=False)"
      ]
    },
    {
      "cell_type": "markdown",
      "metadata": {
        "id": "YSw_yhG-DMNd"
      },
      "source": [
        "- Out of the 8 columns (['Sub-product'], ['Sub-issue'], ['Consumer complaint narrative'], ['Company public response'], ['State'], ['ZIP code'], ['Tags'], ['Consumer consent provided?']) that have missing values, 6 have more than 25% data missing. These columns can be dropped.\n",
        "We will determine imputation method for remaining 2 after further analysis"
      ]
    },
    {
      "cell_type": "code",
      "execution_count": null,
      "metadata": {
        "id": "MnGVM0SbDMNd",
        "outputId": "1a0673b9-f9cd-43cd-ce26-0bbaca6c9179"
      },
      "outputs": [
        {
          "data": {
            "text/plain": [
              "Tags                            0.858059\n",
              "Consumer complaint narrative    0.841864\n",
              "Company public response         0.812217\n",
              "Consumer consent provided?      0.716511\n",
              "Sub-issue                       0.612427\n",
              "Sub-product                     0.289977\n",
              "ZIP code                        0.007834\n",
              "State                           0.007826\n",
              "Submitted via                   0.000000\n",
              "Timely response?                0.000000\n",
              "Company response to consumer    0.000000\n",
              "Date sent to company            0.000000\n",
              "Date received                   0.000000\n",
              "Product                         0.000000\n",
              "Company                         0.000000\n",
              "Issue                           0.000000\n",
              "Complaint ID                    0.000000\n",
              "dtype: float64"
            ]
          },
          "execution_count": 10,
          "metadata": {},
          "output_type": "execute_result"
        }
      ],
      "source": [
        "# Missing values in test dataset\n",
        "\n",
        "test.isnull().mean().sort_values(ascending=False)"
      ]
    },
    {
      "cell_type": "markdown",
      "metadata": {
        "id": "z9mdQc6npoqE"
      },
      "source": [
        "#### Drop columns where more than 25% of the data are missing."
      ]
    },
    {
      "cell_type": "code",
      "execution_count": null,
      "metadata": {
        "id": "YJhBaNOqpoqG"
      },
      "outputs": [],
      "source": [
        "columns_to_drop=['Tags','Consumer complaint narrative','Company public response','Consumer consent provided?','Sub-issue','Sub-product']\n",
        "\n",
        "from feature_engine.selection import DropFeatures\n",
        "\n",
        "#Instantiate\n",
        "drop_missing_data = DropFeatures(features_to_drop = columns_to_drop)\n",
        "\n",
        "# Fit-Transform\n",
        "train = drop_missing_data.fit_transform(train)\n",
        "test = drop_missing_data.fit_transform(test)"
      ]
    },
    {
      "cell_type": "code",
      "execution_count": null,
      "metadata": {
        "id": "QYDMOSZjDMNf",
        "outputId": "9da53f42-7b0a-4eb6-8374-05a64c6f81bc"
      },
      "outputs": [
        {
          "data": {
            "text/plain": [
              "Complaint ID                    358810\n",
              "ZIP code                         24181\n",
              "Company                           3064\n",
              "Date received                     1758\n",
              "Date sent to company              1701\n",
              "Issue                               95\n",
              "State                               62\n",
              "Product                             12\n",
              "Submitted via                        6\n",
              "Company response to consumer         6\n",
              "Timely response?                     2\n",
              "Consumer disputed?                   2\n",
              "dtype: int64"
            ]
          },
          "execution_count": 12,
          "metadata": {},
          "output_type": "execute_result"
        }
      ],
      "source": [
        "# Checking for constant features\n",
        "\n",
        "train.nunique().sort_values(ascending=False)"
      ]
    },
    {
      "cell_type": "markdown",
      "metadata": {
        "id": "6mT6ZLQwDMNg"
      },
      "source": [
        "This dataset has 2 binary features: ['Timely response?'] and ['Consumer disputed?'].\n",
        "As ['Consumer disputed?'] is our target variable, binary classification algorithms may be the most suited for our predictions.\n",
        "\n",
        "['Complaint ID'] has large number of unique values; judging by the name of the variable, this may be ordinal with no significance and we may have to drop it too."
      ]
    },
    {
      "cell_type": "markdown",
      "metadata": {
        "id": "bDzo8Q5HpoqN"
      },
      "source": [
        "#### Convert dates from object type to datetime type"
      ]
    },
    {
      "cell_type": "code",
      "execution_count": null,
      "metadata": {
        "id": "D-rUlAE3poqN"
      },
      "outputs": [],
      "source": [
        "date_cols = ['Date received', 'Date sent to company']\n",
        "\n",
        "for col in date_cols:\n",
        "    train[col] = pd.to_datetime(train[col])\n",
        "    test[col] = pd.to_datetime(test[col])"
      ]
    },
    {
      "cell_type": "code",
      "execution_count": null,
      "metadata": {
        "id": "bpTRFE_4DMNg",
        "outputId": "db976b37-669c-48f0-c94d-0dfe77c3b4f5"
      },
      "outputs": [
        {
          "data": {
            "text/plain": [
              "Date received                   datetime64[ns]\n",
              "Product                                 object\n",
              "Issue                                   object\n",
              "Company                                 object\n",
              "State                                   object\n",
              "ZIP code                                object\n",
              "Submitted via                           object\n",
              "Date sent to company            datetime64[ns]\n",
              "Company response to consumer            object\n",
              "Timely response?                        object\n",
              "Consumer disputed?                      object\n",
              "Complaint ID                             int64\n",
              "dtype: object"
            ]
          },
          "execution_count": 14,
          "metadata": {},
          "output_type": "execute_result"
        }
      ],
      "source": [
        "# Check data types after conversion\n",
        "train.dtypes"
      ]
    },
    {
      "cell_type": "code",
      "execution_count": null,
      "metadata": {
        "id": "JxYjoLIcDMNh",
        "outputId": "715a5e3f-a402-4f04-c204-e8cbeb87c33b"
      },
      "outputs": [
        {
          "data": {
            "text/plain": [
              "Date received                   datetime64[ns]\n",
              "Product                                 object\n",
              "Issue                                   object\n",
              "Company                                 object\n",
              "State                                   object\n",
              "ZIP code                                object\n",
              "Submitted via                           object\n",
              "Date sent to company            datetime64[ns]\n",
              "Company response to consumer            object\n",
              "Timely response?                        object\n",
              "Complaint ID                             int64\n",
              "dtype: object"
            ]
          },
          "execution_count": 15,
          "metadata": {},
          "output_type": "execute_result"
        }
      ],
      "source": [
        "# Check data types of test dataset\n",
        "test.dtypes"
      ]
    },
    {
      "cell_type": "markdown",
      "metadata": {
        "id": "PkddP08zpoqI"
      },
      "source": [
        "#### Extract Date, Month, and Year from the \"Date Received\" Column and create new fields for year, month, and day."
      ]
    },
    {
      "cell_type": "code",
      "execution_count": null,
      "metadata": {
        "id": "B-f5_sc8poqM",
        "outputId": "f387d1aa-8206-430f-d645-8d5889b0ac9a"
      },
      "outputs": [
        {
          "data": {
            "text/html": [
              "<div>\n",
              "<style scoped>\n",
              "    .dataframe tbody tr th:only-of-type {\n",
              "        vertical-align: middle;\n",
              "    }\n",
              "\n",
              "    .dataframe tbody tr th {\n",
              "        vertical-align: top;\n",
              "    }\n",
              "\n",
              "    .dataframe thead th {\n",
              "        text-align: right;\n",
              "    }\n",
              "</style>\n",
              "<table border=\"1\" class=\"dataframe\">\n",
              "  <thead>\n",
              "    <tr style=\"text-align: right;\">\n",
              "      <th></th>\n",
              "      <th>Date received</th>\n",
              "      <th>Product</th>\n",
              "      <th>Issue</th>\n",
              "      <th>Company</th>\n",
              "      <th>State</th>\n",
              "      <th>ZIP code</th>\n",
              "      <th>Submitted via</th>\n",
              "      <th>Date sent to company</th>\n",
              "      <th>Company response to consumer</th>\n",
              "      <th>Timely response?</th>\n",
              "      <th>Consumer disputed?</th>\n",
              "      <th>Complaint ID</th>\n",
              "      <th>Year_Received</th>\n",
              "      <th>Month_Received</th>\n",
              "      <th>Day_Received</th>\n",
              "    </tr>\n",
              "  </thead>\n",
              "  <tbody>\n",
              "    <tr>\n",
              "      <th>0</th>\n",
              "      <td>2015-10-14</td>\n",
              "      <td>Credit reporting</td>\n",
              "      <td>Incorrect information on credit report</td>\n",
              "      <td>Equifax</td>\n",
              "      <td>GA</td>\n",
              "      <td>30134</td>\n",
              "      <td>Web</td>\n",
              "      <td>2015-10-14</td>\n",
              "      <td>Closed with explanation</td>\n",
              "      <td>Yes</td>\n",
              "      <td>No</td>\n",
              "      <td>1605653</td>\n",
              "      <td>2015</td>\n",
              "      <td>10</td>\n",
              "      <td>14</td>\n",
              "    </tr>\n",
              "    <tr>\n",
              "      <th>1</th>\n",
              "      <td>2015-04-26</td>\n",
              "      <td>Bank account or service</td>\n",
              "      <td>Deposits and withdrawals</td>\n",
              "      <td>Wells Fargo &amp; Company</td>\n",
              "      <td>GA</td>\n",
              "      <td>319XX</td>\n",
              "      <td>Web</td>\n",
              "      <td>2015-04-26</td>\n",
              "      <td>Closed with explanation</td>\n",
              "      <td>Yes</td>\n",
              "      <td>Yes</td>\n",
              "      <td>1347613</td>\n",
              "      <td>2015</td>\n",
              "      <td>4</td>\n",
              "      <td>26</td>\n",
              "    </tr>\n",
              "  </tbody>\n",
              "</table>\n",
              "</div>"
            ],
            "text/plain": [
              "  Date received                  Product  \\\n",
              "0    2015-10-14         Credit reporting   \n",
              "1    2015-04-26  Bank account or service   \n",
              "\n",
              "                                    Issue                Company State  \\\n",
              "0  Incorrect information on credit report                Equifax    GA   \n",
              "1                Deposits and withdrawals  Wells Fargo & Company    GA   \n",
              "\n",
              "  ZIP code Submitted via Date sent to company Company response to consumer  \\\n",
              "0    30134           Web           2015-10-14      Closed with explanation   \n",
              "1    319XX           Web           2015-04-26      Closed with explanation   \n",
              "\n",
              "  Timely response? Consumer disputed?  Complaint ID  Year_Received  \\\n",
              "0              Yes                 No       1605653           2015   \n",
              "1              Yes                Yes       1347613           2015   \n",
              "\n",
              "   Month_Received  Day_Received  \n",
              "0              10            14  \n",
              "1               4            26  "
            ]
          },
          "execution_count": 16,
          "metadata": {},
          "output_type": "execute_result"
        }
      ],
      "source": [
        "# Extracting year, month, day in Train data\n",
        "\n",
        "train['Year_Received'] = train['Date received'].dt.year\n",
        "train['Month_Received'] = train['Date received'].dt.month\n",
        "train['Day_Received'] = train['Date received'].dt.day\n",
        "train.head(2)"
      ]
    },
    {
      "cell_type": "code",
      "execution_count": null,
      "metadata": {
        "id": "xwxBJehbDMNh",
        "outputId": "39408890-3641-4742-db96-657f63c5932a"
      },
      "outputs": [
        {
          "data": {
            "text/html": [
              "<div>\n",
              "<style scoped>\n",
              "    .dataframe tbody tr th:only-of-type {\n",
              "        vertical-align: middle;\n",
              "    }\n",
              "\n",
              "    .dataframe tbody tr th {\n",
              "        vertical-align: top;\n",
              "    }\n",
              "\n",
              "    .dataframe thead th {\n",
              "        text-align: right;\n",
              "    }\n",
              "</style>\n",
              "<table border=\"1\" class=\"dataframe\">\n",
              "  <thead>\n",
              "    <tr style=\"text-align: right;\">\n",
              "      <th></th>\n",
              "      <th>Date received</th>\n",
              "      <th>Product</th>\n",
              "      <th>Issue</th>\n",
              "      <th>Company</th>\n",
              "      <th>State</th>\n",
              "      <th>ZIP code</th>\n",
              "      <th>Submitted via</th>\n",
              "      <th>Date sent to company</th>\n",
              "      <th>Company response to consumer</th>\n",
              "      <th>Timely response?</th>\n",
              "      <th>Complaint ID</th>\n",
              "      <th>Year_Received</th>\n",
              "      <th>Month_Received</th>\n",
              "      <th>Day_Received</th>\n",
              "    </tr>\n",
              "  </thead>\n",
              "  <tbody>\n",
              "    <tr>\n",
              "      <th>0</th>\n",
              "      <td>2015-01-17</td>\n",
              "      <td>Credit card</td>\n",
              "      <td>Customer service / Customer relations</td>\n",
              "      <td>Citibank</td>\n",
              "      <td>TX</td>\n",
              "      <td>75241</td>\n",
              "      <td>Web</td>\n",
              "      <td>2015-01-17</td>\n",
              "      <td>Closed with monetary relief</td>\n",
              "      <td>Yes</td>\n",
              "      <td>1198133</td>\n",
              "      <td>2015</td>\n",
              "      <td>1</td>\n",
              "      <td>17</td>\n",
              "    </tr>\n",
              "    <tr>\n",
              "      <th>1</th>\n",
              "      <td>2016-06-22</td>\n",
              "      <td>Consumer Loan</td>\n",
              "      <td>Payment to acct not credited</td>\n",
              "      <td>Larsen MacColl Partners II, L.P.</td>\n",
              "      <td>TX</td>\n",
              "      <td>76548</td>\n",
              "      <td>Phone</td>\n",
              "      <td>2016-06-22</td>\n",
              "      <td>Closed with explanation</td>\n",
              "      <td>Yes</td>\n",
              "      <td>1979989</td>\n",
              "      <td>2016</td>\n",
              "      <td>6</td>\n",
              "      <td>22</td>\n",
              "    </tr>\n",
              "  </tbody>\n",
              "</table>\n",
              "</div>"
            ],
            "text/plain": [
              "  Date received        Product                                  Issue  \\\n",
              "0    2015-01-17    Credit card  Customer service / Customer relations   \n",
              "1    2016-06-22  Consumer Loan           Payment to acct not credited   \n",
              "\n",
              "                            Company State ZIP code Submitted via  \\\n",
              "0                          Citibank    TX    75241           Web   \n",
              "1  Larsen MacColl Partners II, L.P.    TX    76548         Phone   \n",
              "\n",
              "  Date sent to company Company response to consumer Timely response?  \\\n",
              "0           2015-01-17  Closed with monetary relief              Yes   \n",
              "1           2016-06-22      Closed with explanation              Yes   \n",
              "\n",
              "   Complaint ID  Year_Received  Month_Received  Day_Received  \n",
              "0       1198133           2015               1            17  \n",
              "1       1979989           2016               6            22  "
            ]
          },
          "execution_count": 17,
          "metadata": {},
          "output_type": "execute_result"
        }
      ],
      "source": [
        "# Extracting year, month, day in Test data\n",
        "\n",
        "test['Year_Received'] = test['Date received'].dt.year\n",
        "test['Month_Received'] = test['Date received'].dt.month\n",
        "test['Day_Received'] = test['Date received'].dt.day\n",
        "test.head(2)"
      ]
    },
    {
      "cell_type": "markdown",
      "metadata": {
        "id": "C7ZhXjgWpoqO"
      },
      "source": [
        "#### Calculate the Number of Days the Complaint was with the Company and create a new field as “Days held”\n",
        "\n",
        "create new field with help given logic Like, Days held = Date sent to company - Date received <br>\n",
        "Convert \"Days Held\" to Int(above column)"
      ]
    },
    {
      "cell_type": "code",
      "execution_count": null,
      "metadata": {
        "id": "1tZ5kgp5poqO",
        "scrolled": false,
        "outputId": "b538e468-e223-4fe7-e52e-b251e2839d95"
      },
      "outputs": [
        {
          "data": {
            "text/html": [
              "<div>\n",
              "<style scoped>\n",
              "    .dataframe tbody tr th:only-of-type {\n",
              "        vertical-align: middle;\n",
              "    }\n",
              "\n",
              "    .dataframe tbody tr th {\n",
              "        vertical-align: top;\n",
              "    }\n",
              "\n",
              "    .dataframe thead th {\n",
              "        text-align: right;\n",
              "    }\n",
              "</style>\n",
              "<table border=\"1\" class=\"dataframe\">\n",
              "  <thead>\n",
              "    <tr style=\"text-align: right;\">\n",
              "      <th></th>\n",
              "      <th>Date received</th>\n",
              "      <th>Product</th>\n",
              "      <th>Issue</th>\n",
              "      <th>Company</th>\n",
              "      <th>State</th>\n",
              "      <th>ZIP code</th>\n",
              "      <th>Submitted via</th>\n",
              "      <th>Date sent to company</th>\n",
              "      <th>Company response to consumer</th>\n",
              "      <th>Timely response?</th>\n",
              "      <th>Consumer disputed?</th>\n",
              "      <th>Complaint ID</th>\n",
              "      <th>Year_Received</th>\n",
              "      <th>Month_Received</th>\n",
              "      <th>Day_Received</th>\n",
              "      <th>Days held</th>\n",
              "    </tr>\n",
              "  </thead>\n",
              "  <tbody>\n",
              "    <tr>\n",
              "      <th>0</th>\n",
              "      <td>2015-10-14</td>\n",
              "      <td>Credit reporting</td>\n",
              "      <td>Incorrect information on credit report</td>\n",
              "      <td>Equifax</td>\n",
              "      <td>GA</td>\n",
              "      <td>30134</td>\n",
              "      <td>Web</td>\n",
              "      <td>2015-10-14</td>\n",
              "      <td>Closed with explanation</td>\n",
              "      <td>Yes</td>\n",
              "      <td>No</td>\n",
              "      <td>1605653</td>\n",
              "      <td>2015</td>\n",
              "      <td>10</td>\n",
              "      <td>14</td>\n",
              "      <td>0</td>\n",
              "    </tr>\n",
              "    <tr>\n",
              "      <th>1</th>\n",
              "      <td>2015-04-26</td>\n",
              "      <td>Bank account or service</td>\n",
              "      <td>Deposits and withdrawals</td>\n",
              "      <td>Wells Fargo &amp; Company</td>\n",
              "      <td>GA</td>\n",
              "      <td>319XX</td>\n",
              "      <td>Web</td>\n",
              "      <td>2015-04-26</td>\n",
              "      <td>Closed with explanation</td>\n",
              "      <td>Yes</td>\n",
              "      <td>Yes</td>\n",
              "      <td>1347613</td>\n",
              "      <td>2015</td>\n",
              "      <td>4</td>\n",
              "      <td>26</td>\n",
              "      <td>0</td>\n",
              "    </tr>\n",
              "  </tbody>\n",
              "</table>\n",
              "</div>"
            ],
            "text/plain": [
              "  Date received                  Product  \\\n",
              "0    2015-10-14         Credit reporting   \n",
              "1    2015-04-26  Bank account or service   \n",
              "\n",
              "                                    Issue                Company State  \\\n",
              "0  Incorrect information on credit report                Equifax    GA   \n",
              "1                Deposits and withdrawals  Wells Fargo & Company    GA   \n",
              "\n",
              "  ZIP code Submitted via Date sent to company Company response to consumer  \\\n",
              "0    30134           Web           2015-10-14      Closed with explanation   \n",
              "1    319XX           Web           2015-04-26      Closed with explanation   \n",
              "\n",
              "  Timely response? Consumer disputed?  Complaint ID  Year_Received  \\\n",
              "0              Yes                 No       1605653           2015   \n",
              "1              Yes                Yes       1347613           2015   \n",
              "\n",
              "   Month_Received  Day_Received  Days held  \n",
              "0              10            14          0  \n",
              "1               4            26          0  "
            ]
          },
          "execution_count": 18,
          "metadata": {},
          "output_type": "execute_result"
        }
      ],
      "source": [
        "# Creating \"Days Held\" column and storing value as Int\n",
        "\n",
        "train['Days held'] = (train['Date sent to company'] - train['Date received']).dt.days\n",
        "test['Days held'] = (test['Date sent to company'] - test['Date received']).dt.days\n",
        "\n",
        "train.head(2)"
      ]
    },
    {
      "cell_type": "code",
      "execution_count": null,
      "metadata": {
        "id": "_vfSH8s_DMNi",
        "outputId": "0b6a21fc-8d2c-4785-aaf8-ff8c89e6bfce"
      },
      "outputs": [
        {
          "data": {
            "text/html": [
              "<div>\n",
              "<style scoped>\n",
              "    .dataframe tbody tr th:only-of-type {\n",
              "        vertical-align: middle;\n",
              "    }\n",
              "\n",
              "    .dataframe tbody tr th {\n",
              "        vertical-align: top;\n",
              "    }\n",
              "\n",
              "    .dataframe thead th {\n",
              "        text-align: right;\n",
              "    }\n",
              "</style>\n",
              "<table border=\"1\" class=\"dataframe\">\n",
              "  <thead>\n",
              "    <tr style=\"text-align: right;\">\n",
              "      <th></th>\n",
              "      <th>Date received</th>\n",
              "      <th>Product</th>\n",
              "      <th>Issue</th>\n",
              "      <th>Company</th>\n",
              "      <th>State</th>\n",
              "      <th>ZIP code</th>\n",
              "      <th>Submitted via</th>\n",
              "      <th>Date sent to company</th>\n",
              "      <th>Company response to consumer</th>\n",
              "      <th>Timely response?</th>\n",
              "      <th>Complaint ID</th>\n",
              "      <th>Year_Received</th>\n",
              "      <th>Month_Received</th>\n",
              "      <th>Day_Received</th>\n",
              "      <th>Days held</th>\n",
              "    </tr>\n",
              "  </thead>\n",
              "  <tbody>\n",
              "    <tr>\n",
              "      <th>0</th>\n",
              "      <td>2015-01-17</td>\n",
              "      <td>Credit card</td>\n",
              "      <td>Customer service / Customer relations</td>\n",
              "      <td>Citibank</td>\n",
              "      <td>TX</td>\n",
              "      <td>75241</td>\n",
              "      <td>Web</td>\n",
              "      <td>2015-01-17</td>\n",
              "      <td>Closed with monetary relief</td>\n",
              "      <td>Yes</td>\n",
              "      <td>1198133</td>\n",
              "      <td>2015</td>\n",
              "      <td>1</td>\n",
              "      <td>17</td>\n",
              "      <td>0</td>\n",
              "    </tr>\n",
              "    <tr>\n",
              "      <th>1</th>\n",
              "      <td>2016-06-22</td>\n",
              "      <td>Consumer Loan</td>\n",
              "      <td>Payment to acct not credited</td>\n",
              "      <td>Larsen MacColl Partners II, L.P.</td>\n",
              "      <td>TX</td>\n",
              "      <td>76548</td>\n",
              "      <td>Phone</td>\n",
              "      <td>2016-06-22</td>\n",
              "      <td>Closed with explanation</td>\n",
              "      <td>Yes</td>\n",
              "      <td>1979989</td>\n",
              "      <td>2016</td>\n",
              "      <td>6</td>\n",
              "      <td>22</td>\n",
              "      <td>0</td>\n",
              "    </tr>\n",
              "  </tbody>\n",
              "</table>\n",
              "</div>"
            ],
            "text/plain": [
              "  Date received        Product                                  Issue  \\\n",
              "0    2015-01-17    Credit card  Customer service / Customer relations   \n",
              "1    2016-06-22  Consumer Loan           Payment to acct not credited   \n",
              "\n",
              "                            Company State ZIP code Submitted via  \\\n",
              "0                          Citibank    TX    75241           Web   \n",
              "1  Larsen MacColl Partners II, L.P.    TX    76548         Phone   \n",
              "\n",
              "  Date sent to company Company response to consumer Timely response?  \\\n",
              "0           2015-01-17  Closed with monetary relief              Yes   \n",
              "1           2016-06-22      Closed with explanation              Yes   \n",
              "\n",
              "   Complaint ID  Year_Received  Month_Received  Day_Received  Days held  \n",
              "0       1198133           2015               1            17          0  \n",
              "1       1979989           2016               6            22          0  "
            ]
          },
          "execution_count": 19,
          "metadata": {},
          "output_type": "execute_result"
        }
      ],
      "source": [
        "test.head(2)"
      ]
    },
    {
      "cell_type": "markdown",
      "metadata": {
        "id": "M0EPXTRWpoqR"
      },
      "source": [
        "#### Categorize Days into Weeks with the help of 'Days Received'"
      ]
    },
    {
      "cell_type": "code",
      "execution_count": null,
      "metadata": {
        "id": "zr7y3qkCpoqS",
        "outputId": "616e49f4-abb5-4972-ce9e-09e86e700177"
      },
      "outputs": [
        {
          "data": {
            "text/html": [
              "<div>\n",
              "<style scoped>\n",
              "    .dataframe tbody tr th:only-of-type {\n",
              "        vertical-align: middle;\n",
              "    }\n",
              "\n",
              "    .dataframe tbody tr th {\n",
              "        vertical-align: top;\n",
              "    }\n",
              "\n",
              "    .dataframe thead th {\n",
              "        text-align: right;\n",
              "    }\n",
              "</style>\n",
              "<table border=\"1\" class=\"dataframe\">\n",
              "  <thead>\n",
              "    <tr style=\"text-align: right;\">\n",
              "      <th></th>\n",
              "      <th>Date received</th>\n",
              "      <th>Product</th>\n",
              "      <th>Issue</th>\n",
              "      <th>Company</th>\n",
              "      <th>State</th>\n",
              "      <th>ZIP code</th>\n",
              "      <th>Submitted via</th>\n",
              "      <th>Date sent to company</th>\n",
              "      <th>Company response to consumer</th>\n",
              "      <th>Timely response?</th>\n",
              "      <th>Consumer disputed?</th>\n",
              "      <th>Complaint ID</th>\n",
              "      <th>Year_Received</th>\n",
              "      <th>Month_Received</th>\n",
              "      <th>Day_Received</th>\n",
              "      <th>Days held</th>\n",
              "      <th>Week</th>\n",
              "    </tr>\n",
              "  </thead>\n",
              "  <tbody>\n",
              "    <tr>\n",
              "      <th>0</th>\n",
              "      <td>2015-10-14</td>\n",
              "      <td>Credit reporting</td>\n",
              "      <td>Incorrect information on credit report</td>\n",
              "      <td>Equifax</td>\n",
              "      <td>GA</td>\n",
              "      <td>30134</td>\n",
              "      <td>Web</td>\n",
              "      <td>2015-10-14</td>\n",
              "      <td>Closed with explanation</td>\n",
              "      <td>Yes</td>\n",
              "      <td>No</td>\n",
              "      <td>1605653</td>\n",
              "      <td>2015</td>\n",
              "      <td>10</td>\n",
              "      <td>14</td>\n",
              "      <td>0</td>\n",
              "      <td>2</td>\n",
              "    </tr>\n",
              "    <tr>\n",
              "      <th>1</th>\n",
              "      <td>2015-04-26</td>\n",
              "      <td>Bank account or service</td>\n",
              "      <td>Deposits and withdrawals</td>\n",
              "      <td>Wells Fargo &amp; Company</td>\n",
              "      <td>GA</td>\n",
              "      <td>319XX</td>\n",
              "      <td>Web</td>\n",
              "      <td>2015-04-26</td>\n",
              "      <td>Closed with explanation</td>\n",
              "      <td>Yes</td>\n",
              "      <td>Yes</td>\n",
              "      <td>1347613</td>\n",
              "      <td>2015</td>\n",
              "      <td>4</td>\n",
              "      <td>26</td>\n",
              "      <td>0</td>\n",
              "      <td>4</td>\n",
              "    </tr>\n",
              "  </tbody>\n",
              "</table>\n",
              "</div>"
            ],
            "text/plain": [
              "  Date received                  Product  \\\n",
              "0    2015-10-14         Credit reporting   \n",
              "1    2015-04-26  Bank account or service   \n",
              "\n",
              "                                    Issue                Company State  \\\n",
              "0  Incorrect information on credit report                Equifax    GA   \n",
              "1                Deposits and withdrawals  Wells Fargo & Company    GA   \n",
              "\n",
              "  ZIP code Submitted via Date sent to company Company response to consumer  \\\n",
              "0    30134           Web           2015-10-14      Closed with explanation   \n",
              "1    319XX           Web           2015-04-26      Closed with explanation   \n",
              "\n",
              "  Timely response? Consumer disputed?  Complaint ID  Year_Received  \\\n",
              "0              Yes                 No       1605653           2015   \n",
              "1              Yes                Yes       1347613           2015   \n",
              "\n",
              "   Month_Received  Day_Received  Days held  Week  \n",
              "0              10            14          0     2  \n",
              "1               4            26          0     4  "
            ]
          },
          "execution_count": 20,
          "metadata": {},
          "output_type": "execute_result"
        }
      ],
      "source": [
        "# Define a function to compute week number\n",
        "\n",
        "def WeekNo(Day):\n",
        "    if Day<8:\n",
        "        return 1\n",
        "    elif Day<15:\n",
        "        return 2\n",
        "    elif Day<2:\n",
        "        return 3\n",
        "    else:\n",
        "        return 4\n",
        "\n",
        "# Add column 'Week' to train and test datasets\n",
        "train['Week'] = train['Day_Received'].apply(WeekNo)\n",
        "test['Week'] = test['Day_Received'].apply(WeekNo)\n",
        "\n",
        "train.head(2)"
      ]
    },
    {
      "cell_type": "code",
      "execution_count": null,
      "metadata": {
        "id": "uo4ipeiaDMNi",
        "outputId": "4baa3f63-acbc-49cb-b884-092fe0ef6088"
      },
      "outputs": [
        {
          "data": {
            "text/html": [
              "<div>\n",
              "<style scoped>\n",
              "    .dataframe tbody tr th:only-of-type {\n",
              "        vertical-align: middle;\n",
              "    }\n",
              "\n",
              "    .dataframe tbody tr th {\n",
              "        vertical-align: top;\n",
              "    }\n",
              "\n",
              "    .dataframe thead th {\n",
              "        text-align: right;\n",
              "    }\n",
              "</style>\n",
              "<table border=\"1\" class=\"dataframe\">\n",
              "  <thead>\n",
              "    <tr style=\"text-align: right;\">\n",
              "      <th></th>\n",
              "      <th>Date received</th>\n",
              "      <th>Product</th>\n",
              "      <th>Issue</th>\n",
              "      <th>Company</th>\n",
              "      <th>State</th>\n",
              "      <th>ZIP code</th>\n",
              "      <th>Submitted via</th>\n",
              "      <th>Date sent to company</th>\n",
              "      <th>Company response to consumer</th>\n",
              "      <th>Timely response?</th>\n",
              "      <th>Complaint ID</th>\n",
              "      <th>Year_Received</th>\n",
              "      <th>Month_Received</th>\n",
              "      <th>Day_Received</th>\n",
              "      <th>Days held</th>\n",
              "      <th>Week</th>\n",
              "    </tr>\n",
              "  </thead>\n",
              "  <tbody>\n",
              "    <tr>\n",
              "      <th>0</th>\n",
              "      <td>2015-01-17</td>\n",
              "      <td>Credit card</td>\n",
              "      <td>Customer service / Customer relations</td>\n",
              "      <td>Citibank</td>\n",
              "      <td>TX</td>\n",
              "      <td>75241</td>\n",
              "      <td>Web</td>\n",
              "      <td>2015-01-17</td>\n",
              "      <td>Closed with monetary relief</td>\n",
              "      <td>Yes</td>\n",
              "      <td>1198133</td>\n",
              "      <td>2015</td>\n",
              "      <td>1</td>\n",
              "      <td>17</td>\n",
              "      <td>0</td>\n",
              "      <td>4</td>\n",
              "    </tr>\n",
              "    <tr>\n",
              "      <th>1</th>\n",
              "      <td>2016-06-22</td>\n",
              "      <td>Consumer Loan</td>\n",
              "      <td>Payment to acct not credited</td>\n",
              "      <td>Larsen MacColl Partners II, L.P.</td>\n",
              "      <td>TX</td>\n",
              "      <td>76548</td>\n",
              "      <td>Phone</td>\n",
              "      <td>2016-06-22</td>\n",
              "      <td>Closed with explanation</td>\n",
              "      <td>Yes</td>\n",
              "      <td>1979989</td>\n",
              "      <td>2016</td>\n",
              "      <td>6</td>\n",
              "      <td>22</td>\n",
              "      <td>0</td>\n",
              "      <td>4</td>\n",
              "    </tr>\n",
              "  </tbody>\n",
              "</table>\n",
              "</div>"
            ],
            "text/plain": [
              "  Date received        Product                                  Issue  \\\n",
              "0    2015-01-17    Credit card  Customer service / Customer relations   \n",
              "1    2016-06-22  Consumer Loan           Payment to acct not credited   \n",
              "\n",
              "                            Company State ZIP code Submitted via  \\\n",
              "0                          Citibank    TX    75241           Web   \n",
              "1  Larsen MacColl Partners II, L.P.    TX    76548         Phone   \n",
              "\n",
              "  Date sent to company Company response to consumer Timely response?  \\\n",
              "0           2015-01-17  Closed with monetary relief              Yes   \n",
              "1           2016-06-22      Closed with explanation              Yes   \n",
              "\n",
              "   Complaint ID  Year_Received  Month_Received  Day_Received  Days held  Week  \n",
              "0       1198133           2015               1            17          0     4  \n",
              "1       1979989           2016               6            22          0     4  "
            ]
          },
          "execution_count": 21,
          "metadata": {},
          "output_type": "execute_result"
        }
      ],
      "source": [
        "test.head(2)"
      ]
    },
    {
      "cell_type": "markdown",
      "metadata": {
        "id": "0HQaa_05poqP"
      },
      "source": [
        "#### Drop \"Date Received\",\"Date Sent to Company\",\"ZIP Code\", \"Complaint ID\" amd \"Day_Received\" column"
      ]
    },
    {
      "cell_type": "code",
      "execution_count": null,
      "metadata": {
        "id": "T9WmzyvmpoqQ",
        "outputId": "112f67d7-4af5-4a7e-fdb9-4b383adfd3a1"
      },
      "outputs": [
        {
          "data": {
            "text/html": [
              "<div>\n",
              "<style scoped>\n",
              "    .dataframe tbody tr th:only-of-type {\n",
              "        vertical-align: middle;\n",
              "    }\n",
              "\n",
              "    .dataframe tbody tr th {\n",
              "        vertical-align: top;\n",
              "    }\n",
              "\n",
              "    .dataframe thead th {\n",
              "        text-align: right;\n",
              "    }\n",
              "</style>\n",
              "<table border=\"1\" class=\"dataframe\">\n",
              "  <thead>\n",
              "    <tr style=\"text-align: right;\">\n",
              "      <th></th>\n",
              "      <th>Product</th>\n",
              "      <th>Issue</th>\n",
              "      <th>Company</th>\n",
              "      <th>State</th>\n",
              "      <th>Submitted via</th>\n",
              "      <th>Company response to consumer</th>\n",
              "      <th>Timely response?</th>\n",
              "      <th>Consumer disputed?</th>\n",
              "      <th>Year_Received</th>\n",
              "      <th>Month_Received</th>\n",
              "      <th>Days held</th>\n",
              "      <th>Week</th>\n",
              "    </tr>\n",
              "  </thead>\n",
              "  <tbody>\n",
              "    <tr>\n",
              "      <th>0</th>\n",
              "      <td>Credit reporting</td>\n",
              "      <td>Incorrect information on credit report</td>\n",
              "      <td>Equifax</td>\n",
              "      <td>GA</td>\n",
              "      <td>Web</td>\n",
              "      <td>Closed with explanation</td>\n",
              "      <td>Yes</td>\n",
              "      <td>No</td>\n",
              "      <td>2015</td>\n",
              "      <td>10</td>\n",
              "      <td>0</td>\n",
              "      <td>2</td>\n",
              "    </tr>\n",
              "    <tr>\n",
              "      <th>1</th>\n",
              "      <td>Bank account or service</td>\n",
              "      <td>Deposits and withdrawals</td>\n",
              "      <td>Wells Fargo &amp; Company</td>\n",
              "      <td>GA</td>\n",
              "      <td>Web</td>\n",
              "      <td>Closed with explanation</td>\n",
              "      <td>Yes</td>\n",
              "      <td>Yes</td>\n",
              "      <td>2015</td>\n",
              "      <td>4</td>\n",
              "      <td>0</td>\n",
              "      <td>4</td>\n",
              "    </tr>\n",
              "  </tbody>\n",
              "</table>\n",
              "</div>"
            ],
            "text/plain": [
              "                   Product                                   Issue  \\\n",
              "0         Credit reporting  Incorrect information on credit report   \n",
              "1  Bank account or service                Deposits and withdrawals   \n",
              "\n",
              "                 Company State Submitted via Company response to consumer  \\\n",
              "0                Equifax    GA           Web      Closed with explanation   \n",
              "1  Wells Fargo & Company    GA           Web      Closed with explanation   \n",
              "\n",
              "  Timely response? Consumer disputed?  Year_Received  Month_Received  \\\n",
              "0              Yes                 No           2015              10   \n",
              "1              Yes                Yes           2015               4   \n",
              "\n",
              "   Days held  Week  \n",
              "0          0     2  \n",
              "1          0     4  "
            ]
          },
          "execution_count": 22,
          "metadata": {},
          "output_type": "execute_result"
        }
      ],
      "source": [
        "columns_to_drop = [\"Date received\",\"Date sent to company\",\"ZIP code\", \"Complaint ID\", \"Day_Received\"]\n",
        "\n",
        "# Instantiate\n",
        "irrelevant_features = DropFeatures(features_to_drop=columns_to_drop)\n",
        "# Fit-Transform\n",
        "train = irrelevant_features.fit_transform(train)\n",
        "test = irrelevant_features.fit_transform(test)\n",
        "\n",
        "train.head(2)"
      ]
    },
    {
      "cell_type": "code",
      "execution_count": null,
      "metadata": {
        "scrolled": true,
        "id": "HtdsuMcRDMNo",
        "outputId": "b7707a7e-a3e6-411d-f2e0-055caec44fbc"
      },
      "outputs": [
        {
          "data": {
            "text/html": [
              "<div>\n",
              "<style scoped>\n",
              "    .dataframe tbody tr th:only-of-type {\n",
              "        vertical-align: middle;\n",
              "    }\n",
              "\n",
              "    .dataframe tbody tr th {\n",
              "        vertical-align: top;\n",
              "    }\n",
              "\n",
              "    .dataframe thead th {\n",
              "        text-align: right;\n",
              "    }\n",
              "</style>\n",
              "<table border=\"1\" class=\"dataframe\">\n",
              "  <thead>\n",
              "    <tr style=\"text-align: right;\">\n",
              "      <th></th>\n",
              "      <th>Product</th>\n",
              "      <th>Issue</th>\n",
              "      <th>Company</th>\n",
              "      <th>State</th>\n",
              "      <th>Submitted via</th>\n",
              "      <th>Company response to consumer</th>\n",
              "      <th>Timely response?</th>\n",
              "      <th>Year_Received</th>\n",
              "      <th>Month_Received</th>\n",
              "      <th>Days held</th>\n",
              "      <th>Week</th>\n",
              "    </tr>\n",
              "  </thead>\n",
              "  <tbody>\n",
              "    <tr>\n",
              "      <th>0</th>\n",
              "      <td>Credit card</td>\n",
              "      <td>Customer service / Customer relations</td>\n",
              "      <td>Citibank</td>\n",
              "      <td>TX</td>\n",
              "      <td>Web</td>\n",
              "      <td>Closed with monetary relief</td>\n",
              "      <td>Yes</td>\n",
              "      <td>2015</td>\n",
              "      <td>1</td>\n",
              "      <td>0</td>\n",
              "      <td>4</td>\n",
              "    </tr>\n",
              "    <tr>\n",
              "      <th>1</th>\n",
              "      <td>Consumer Loan</td>\n",
              "      <td>Payment to acct not credited</td>\n",
              "      <td>Larsen MacColl Partners II, L.P.</td>\n",
              "      <td>TX</td>\n",
              "      <td>Phone</td>\n",
              "      <td>Closed with explanation</td>\n",
              "      <td>Yes</td>\n",
              "      <td>2016</td>\n",
              "      <td>6</td>\n",
              "      <td>0</td>\n",
              "      <td>4</td>\n",
              "    </tr>\n",
              "  </tbody>\n",
              "</table>\n",
              "</div>"
            ],
            "text/plain": [
              "         Product                                  Issue  \\\n",
              "0    Credit card  Customer service / Customer relations   \n",
              "1  Consumer Loan           Payment to acct not credited   \n",
              "\n",
              "                            Company State Submitted via  \\\n",
              "0                          Citibank    TX           Web   \n",
              "1  Larsen MacColl Partners II, L.P.    TX         Phone   \n",
              "\n",
              "  Company response to consumer Timely response?  Year_Received  \\\n",
              "0  Closed with monetary relief              Yes           2015   \n",
              "1      Closed with explanation              Yes           2016   \n",
              "\n",
              "   Month_Received  Days held  Week  \n",
              "0               1          0     4  \n",
              "1               6          0     4  "
            ]
          },
          "execution_count": 23,
          "metadata": {},
          "output_type": "execute_result"
        }
      ],
      "source": [
        "test.head(2)"
      ]
    },
    {
      "cell_type": "markdown",
      "metadata": {
        "id": "fXrMeXGGpoqQ"
      },
      "source": [
        "#### Impute null values in \"State\" by Mode\n",
        "(find mode and replace nan value)"
      ]
    },
    {
      "cell_type": "code",
      "execution_count": null,
      "metadata": {
        "id": "2E50Tq6qpoqQ"
      },
      "outputs": [],
      "source": [
        "# Imputing null values in State with Mode using Categorical Imputer\n",
        "\n",
        "from feature_engine.imputation import CategoricalImputer\n",
        "\n",
        "# Instantiate\n",
        "cat_imputer = CategoricalImputer(imputation_method = 'frequent')\n",
        "\n",
        "# Fit-Transform\n",
        "train = cat_imputer.fit_transform(train)\n",
        "test = cat_imputer.fit_transform(test)"
      ]
    },
    {
      "cell_type": "markdown",
      "metadata": {
        "id": "TDDfIGddpoqR"
      },
      "source": [
        "#### Check Missing Values in the dataset"
      ]
    },
    {
      "cell_type": "code",
      "execution_count": null,
      "metadata": {
        "id": "URGPpI4tDMNo",
        "outputId": "30863223-7d6b-4b93-9482-ab4a22b13797"
      },
      "outputs": [
        {
          "name": "stdout",
          "output_type": "stream",
          "text": [
            "Missing values in Train data:\n"
          ]
        },
        {
          "data": {
            "text/plain": [
              "Product                         0.0\n",
              "Issue                           0.0\n",
              "Company                         0.0\n",
              "State                           0.0\n",
              "Submitted via                   0.0\n",
              "Company response to consumer    0.0\n",
              "Timely response?                0.0\n",
              "Consumer disputed?              0.0\n",
              "Year_Received                   0.0\n",
              "Month_Received                  0.0\n",
              "Days held                       0.0\n",
              "Week                            0.0\n",
              "dtype: float64"
            ]
          },
          "execution_count": 25,
          "metadata": {},
          "output_type": "execute_result"
        }
      ],
      "source": [
        "print('Missing values in Train data:')\n",
        "train.isna().mean()"
      ]
    },
    {
      "cell_type": "code",
      "execution_count": null,
      "metadata": {
        "id": "9lHuVu79poqR",
        "outputId": "5c9b3690-33c5-4728-f4a3-f37e3033efd2"
      },
      "outputs": [
        {
          "name": "stdout",
          "output_type": "stream",
          "text": [
            "Missing values in Test data:\n"
          ]
        },
        {
          "data": {
            "text/plain": [
              "Product                         0.0\n",
              "Issue                           0.0\n",
              "Company                         0.0\n",
              "State                           0.0\n",
              "Submitted via                   0.0\n",
              "Company response to consumer    0.0\n",
              "Timely response?                0.0\n",
              "Year_Received                   0.0\n",
              "Month_Received                  0.0\n",
              "Days held                       0.0\n",
              "Week                            0.0\n",
              "dtype: float64"
            ]
          },
          "execution_count": 26,
          "metadata": {},
          "output_type": "execute_result"
        }
      ],
      "source": [
        "print('Missing values in Test data:')\n",
        "test.isna().mean()"
      ]
    },
    {
      "cell_type": "markdown",
      "metadata": {
        "id": "nwJ4t30LDMNo"
      },
      "source": [
        "- There are now no missing values in both the datasets."
      ]
    },
    {
      "cell_type": "markdown",
      "metadata": {
        "id": "tYdZ9SulpoqT"
      },
      "source": [
        "#### Print head of train and test dataset and observe"
      ]
    },
    {
      "cell_type": "code",
      "execution_count": null,
      "metadata": {
        "id": "Njal7vDbpoqT",
        "outputId": "5cafa030-38d2-4aec-b44f-b5724db88dee"
      },
      "outputs": [
        {
          "data": {
            "text/html": [
              "<div>\n",
              "<style scoped>\n",
              "    .dataframe tbody tr th:only-of-type {\n",
              "        vertical-align: middle;\n",
              "    }\n",
              "\n",
              "    .dataframe tbody tr th {\n",
              "        vertical-align: top;\n",
              "    }\n",
              "\n",
              "    .dataframe thead th {\n",
              "        text-align: right;\n",
              "    }\n",
              "</style>\n",
              "<table border=\"1\" class=\"dataframe\">\n",
              "  <thead>\n",
              "    <tr style=\"text-align: right;\">\n",
              "      <th></th>\n",
              "      <th>Product</th>\n",
              "      <th>Issue</th>\n",
              "      <th>Company</th>\n",
              "      <th>State</th>\n",
              "      <th>Submitted via</th>\n",
              "      <th>Company response to consumer</th>\n",
              "      <th>Timely response?</th>\n",
              "      <th>Consumer disputed?</th>\n",
              "      <th>Year_Received</th>\n",
              "      <th>Month_Received</th>\n",
              "      <th>Days held</th>\n",
              "      <th>Week</th>\n",
              "    </tr>\n",
              "  </thead>\n",
              "  <tbody>\n",
              "    <tr>\n",
              "      <th>0</th>\n",
              "      <td>Credit reporting</td>\n",
              "      <td>Incorrect information on credit report</td>\n",
              "      <td>Equifax</td>\n",
              "      <td>GA</td>\n",
              "      <td>Web</td>\n",
              "      <td>Closed with explanation</td>\n",
              "      <td>Yes</td>\n",
              "      <td>No</td>\n",
              "      <td>2015</td>\n",
              "      <td>10</td>\n",
              "      <td>0</td>\n",
              "      <td>2</td>\n",
              "    </tr>\n",
              "    <tr>\n",
              "      <th>1</th>\n",
              "      <td>Bank account or service</td>\n",
              "      <td>Deposits and withdrawals</td>\n",
              "      <td>Wells Fargo &amp; Company</td>\n",
              "      <td>GA</td>\n",
              "      <td>Web</td>\n",
              "      <td>Closed with explanation</td>\n",
              "      <td>Yes</td>\n",
              "      <td>Yes</td>\n",
              "      <td>2015</td>\n",
              "      <td>4</td>\n",
              "      <td>0</td>\n",
              "      <td>4</td>\n",
              "    </tr>\n",
              "  </tbody>\n",
              "</table>\n",
              "</div>"
            ],
            "text/plain": [
              "                   Product                                   Issue  \\\n",
              "0         Credit reporting  Incorrect information on credit report   \n",
              "1  Bank account or service                Deposits and withdrawals   \n",
              "\n",
              "                 Company State Submitted via Company response to consumer  \\\n",
              "0                Equifax    GA           Web      Closed with explanation   \n",
              "1  Wells Fargo & Company    GA           Web      Closed with explanation   \n",
              "\n",
              "  Timely response? Consumer disputed?  Year_Received  Month_Received  \\\n",
              "0              Yes                 No           2015              10   \n",
              "1              Yes                Yes           2015               4   \n",
              "\n",
              "   Days held  Week  \n",
              "0          0     2  \n",
              "1          0     4  "
            ]
          },
          "execution_count": 27,
          "metadata": {},
          "output_type": "execute_result"
        }
      ],
      "source": [
        "train.head(2)"
      ]
    },
    {
      "cell_type": "code",
      "execution_count": null,
      "metadata": {
        "id": "DY-R4hlhDMNp",
        "outputId": "03822b48-6ce9-40ee-ea37-190a68dea306"
      },
      "outputs": [
        {
          "data": {
            "text/html": [
              "<div>\n",
              "<style scoped>\n",
              "    .dataframe tbody tr th:only-of-type {\n",
              "        vertical-align: middle;\n",
              "    }\n",
              "\n",
              "    .dataframe tbody tr th {\n",
              "        vertical-align: top;\n",
              "    }\n",
              "\n",
              "    .dataframe thead th {\n",
              "        text-align: right;\n",
              "    }\n",
              "</style>\n",
              "<table border=\"1\" class=\"dataframe\">\n",
              "  <thead>\n",
              "    <tr style=\"text-align: right;\">\n",
              "      <th></th>\n",
              "      <th>Product</th>\n",
              "      <th>Issue</th>\n",
              "      <th>Company</th>\n",
              "      <th>State</th>\n",
              "      <th>Submitted via</th>\n",
              "      <th>Company response to consumer</th>\n",
              "      <th>Timely response?</th>\n",
              "      <th>Year_Received</th>\n",
              "      <th>Month_Received</th>\n",
              "      <th>Days held</th>\n",
              "      <th>Week</th>\n",
              "    </tr>\n",
              "  </thead>\n",
              "  <tbody>\n",
              "    <tr>\n",
              "      <th>0</th>\n",
              "      <td>Credit card</td>\n",
              "      <td>Customer service / Customer relations</td>\n",
              "      <td>Citibank</td>\n",
              "      <td>TX</td>\n",
              "      <td>Web</td>\n",
              "      <td>Closed with monetary relief</td>\n",
              "      <td>Yes</td>\n",
              "      <td>2015</td>\n",
              "      <td>1</td>\n",
              "      <td>0</td>\n",
              "      <td>4</td>\n",
              "    </tr>\n",
              "    <tr>\n",
              "      <th>1</th>\n",
              "      <td>Consumer Loan</td>\n",
              "      <td>Payment to acct not credited</td>\n",
              "      <td>Larsen MacColl Partners II, L.P.</td>\n",
              "      <td>TX</td>\n",
              "      <td>Phone</td>\n",
              "      <td>Closed with explanation</td>\n",
              "      <td>Yes</td>\n",
              "      <td>2016</td>\n",
              "      <td>6</td>\n",
              "      <td>0</td>\n",
              "      <td>4</td>\n",
              "    </tr>\n",
              "  </tbody>\n",
              "</table>\n",
              "</div>"
            ],
            "text/plain": [
              "         Product                                  Issue  \\\n",
              "0    Credit card  Customer service / Customer relations   \n",
              "1  Consumer Loan           Payment to acct not credited   \n",
              "\n",
              "                            Company State Submitted via  \\\n",
              "0                          Citibank    TX           Web   \n",
              "1  Larsen MacColl Partners II, L.P.    TX         Phone   \n",
              "\n",
              "  Company response to consumer Timely response?  Year_Received  \\\n",
              "0  Closed with monetary relief              Yes           2015   \n",
              "1      Closed with explanation              Yes           2016   \n",
              "\n",
              "   Month_Received  Days held  Week  \n",
              "0               1          0     4  \n",
              "1               6          0     4  "
            ]
          },
          "execution_count": 28,
          "metadata": {},
          "output_type": "execute_result"
        }
      ],
      "source": [
        "test.head(2)"
      ]
    },
    {
      "cell_type": "markdown",
      "metadata": {
        "id": "A8tqx2qCpoqT"
      },
      "source": [
        "#### Store data of the disputed consumer in the new data frame as \"disputed_cons\""
      ]
    },
    {
      "cell_type": "code",
      "execution_count": null,
      "metadata": {
        "id": "LIsh5bhipoqU",
        "outputId": "79e66488-bc2a-454b-9ec1-b075f2065b57"
      },
      "outputs": [
        {
          "data": {
            "text/plain": [
              "(76172, 12)"
            ]
          },
          "execution_count": 29,
          "metadata": {},
          "output_type": "execute_result"
        }
      ],
      "source": [
        "disputed_cons = train[train['Consumer disputed?']=='Yes']\n",
        "disputed_cons.shape"
      ]
    },
    {
      "cell_type": "code",
      "execution_count": null,
      "metadata": {
        "id": "zPJtr_vxDMNr",
        "outputId": "93ffca98-38f2-40dd-c978-881a580efb91"
      },
      "outputs": [
        {
          "data": {
            "text/plain": [
              "Consumer disputed?\n",
              "No     282638\n",
              "Yes     76172\n",
              "Name: count, dtype: int64"
            ]
          },
          "execution_count": 30,
          "metadata": {},
          "output_type": "execute_result"
        }
      ],
      "source": [
        "train['Consumer disputed?'].value_counts()"
      ]
    },
    {
      "cell_type": "markdown",
      "metadata": {
        "id": "mtGG1fslpoqU"
      },
      "source": [
        "#### Plot bar graph for the total no of disputes with the help of seaborn"
      ]
    },
    {
      "cell_type": "code",
      "execution_count": null,
      "metadata": {
        "id": "AdRiBp3QDMNr",
        "outputId": "96ec5020-9f8b-4de5-8110-450c88ef5b9d"
      },
      "outputs": [
        {
          "data": {
            "image/png": "[encoded data removed]",
            "text/plain": [
              "<Figure size 640x480 with 1 Axes>"
            ]
          },
          "metadata": {},
          "output_type": "display_data"
        }
      ],
      "source": [
        "sns.countplot(data=disputed_cons, x='Consumer disputed?')\n",
        "plt.title('Total number of disputes')\n",
        "plt.ylabel('Count of disputes')\n",
        "plt.show()"
      ]
    },
    {
      "cell_type": "markdown",
      "metadata": {
        "id": "NCZyWAkUpoqW"
      },
      "source": [
        "#### Plot bar graph for the total no of disputes products-wise with help of seaborn"
      ]
    },
    {
      "cell_type": "code",
      "execution_count": null,
      "metadata": {
        "id": "CRaMA8jVpoqX",
        "outputId": "9e2e6024-3c25-45c5-94e1-4b90ab4cb37a"
      },
      "outputs": [
        {
          "data": {
            "image/png": "[encoded data removed]",
            "text/plain": [
              "<Figure size 1000x500 with 1 Axes>"
            ]
          },
          "metadata": {},
          "output_type": "display_data"
        }
      ],
      "source": [
        "# Create aggregated data for plotting\n",
        "temp = pd.DataFrame(disputed_cons.groupby('Product')['Consumer disputed?'].count().sort_values(ascending=False))\n",
        "\n",
        "# Plot the bar graph\n",
        "plt.figure(figsize=(10,5), dpi=100)\n",
        "sns.barplot(data=temp, x=temp.index, y='Consumer disputed?')\n",
        "plt.title('Total number of disputes product-wise')\n",
        "plt.ylabel('Count of disputes')\n",
        "plt.xticks(rotation=45)\n",
        "plt.show()"
      ]
    },
    {
      "cell_type": "markdown",
      "metadata": {
        "id": "L0U3hAu4poqY"
      },
      "source": [
        "#### Plot bar graph for the total no of disputes with Top Issues by Highest Disputes , with help of seaborn"
      ]
    },
    {
      "cell_type": "code",
      "execution_count": null,
      "metadata": {
        "id": "hx_k7HkYpoqY",
        "outputId": "17b4bb2e-a32d-4b8d-e28f-44a2bd169202"
      },
      "outputs": [
        {
          "data": {
            "image/png": "[encoded data removed]",
            "text/plain": [
              "<Figure size 1000x500 with 1 Axes>"
            ]
          },
          "metadata": {},
          "output_type": "display_data"
        }
      ],
      "source": [
        "temp = pd.DataFrame(disputed_cons.groupby('Issue')['Consumer disputed?'].count().sort_values(ascending=False).head(10))\n",
        "\n",
        "plt.figure(figsize=(10,5), dpi=100)\n",
        "sns.barplot(data=temp, y=temp.index, x='Consumer disputed?')\n",
        "plt.title('Top 10 Issues by Highest Disputes')\n",
        "plt.xlabel('Number of disputes')\n",
        "plt.show()"
      ]
    },
    {
      "cell_type": "markdown",
      "metadata": {
        "id": "Lnfp_e9ZpoqY"
      },
      "source": [
        "#### Plot bar graph for the total no of disputes by State with Maximum Disputes"
      ]
    },
    {
      "cell_type": "code",
      "execution_count": null,
      "metadata": {
        "id": "9YieTWCtpoqZ",
        "outputId": "5b2c0a93-7a23-479f-bf95-0f95de79ce82"
      },
      "outputs": [
        {
          "data": {
            "image/png": "[encoded data removed]",
            "text/plain": [
              "<Figure size 1000x500 with 1 Axes>"
            ]
          },
          "metadata": {},
          "output_type": "display_data"
        }
      ],
      "source": [
        "temp = pd.DataFrame(disputed_cons.groupby('State')['Consumer disputed?'].count().sort_values(ascending=False).head(10))\n",
        "\n",
        "plt.figure(figsize=(10,5), dpi=100)\n",
        "sns.barplot(data=temp, x=temp.index, y='Consumer disputed?')\n",
        "plt.title('Top 10 States with Maximum Disputes')\n",
        "plt.ylabel('Count of disputes')\n",
        "plt.show()"
      ]
    },
    {
      "cell_type": "markdown",
      "metadata": {
        "id": "GzYlsiEFpoqZ"
      },
      "source": [
        "#### Plot bar graph for the total no of disputes by Submitted Via diffrent source"
      ]
    },
    {
      "cell_type": "code",
      "execution_count": null,
      "metadata": {
        "id": "ShPK2OoepoqZ",
        "outputId": "6a01d06e-f7d5-4262-d7f0-020814ee06a4"
      },
      "outputs": [
        {
          "data": {
            "image/png": "[encoded data removed]",
            "text/plain": [
              "<Figure size 1000x500 with 1 Axes>"
            ]
          },
          "metadata": {},
          "output_type": "display_data"
        }
      ],
      "source": [
        "temp = pd.DataFrame(disputed_cons.groupby('Submitted via')['Consumer disputed?'].count().sort_values(ascending=False))\n",
        "\n",
        "plt.figure(figsize=(10,5), dpi=100)\n",
        "sns.barplot(data=temp, x=temp.index, y='Consumer disputed?')\n",
        "plt.title('Top sources for Disputes')\n",
        "plt.ylabel('Count of disputes')\n",
        "plt.show()"
      ]
    },
    {
      "cell_type": "markdown",
      "metadata": {
        "id": "rl_JZPCipoqa"
      },
      "source": [
        "#### Plot bar graph for the total no of disputes where the Company's Response to the Complaints"
      ]
    },
    {
      "cell_type": "code",
      "execution_count": null,
      "metadata": {
        "id": "2XTLjfbtpoqa",
        "outputId": "8bbbb272-2a58-457c-b099-78be6783a8fe"
      },
      "outputs": [
        {
          "data": {
            "image/png": "[encoded data removed]",
            "text/plain": [
              "<Figure size 1000x500 with 1 Axes>"
            ]
          },
          "metadata": {},
          "output_type": "display_data"
        }
      ],
      "source": [
        "temp = pd.DataFrame(disputed_cons.groupby('Company response to consumer')['Consumer disputed?'].count().sort_values(ascending=False))\n",
        "\n",
        "plt.figure(figsize=(10,5), dpi=100)\n",
        "sns.barplot(data=temp, y=temp.index, x='Consumer disputed?')\n",
        "plt.title(\"Company's Response to the Complaints\")\n",
        "plt.xlabel('Number of disputes')\n",
        "plt.show()"
      ]
    },
    {
      "cell_type": "markdown",
      "metadata": {
        "id": "pGvHtAP2poqa"
      },
      "source": [
        "#### Plot bar graph for the total no of disputes where Company's Response Leading to Disputes"
      ]
    },
    {
      "cell_type": "code",
      "execution_count": null,
      "metadata": {
        "id": "4MdIaJKJpoqa",
        "outputId": "01aadd1e-b21d-4df4-96d8-8a271d49001b"
      },
      "outputs": [
        {
          "data": {
            "image/png": "[encoded data removed]",
            "text/plain": [
              "<Figure size 1000x500 with 1 Axes>"
            ]
          },
          "metadata": {},
          "output_type": "display_data"
        }
      ],
      "source": [
        "temp = pd.DataFrame(train.groupby(['Company response to consumer','Consumer disputed?'])['Consumer disputed?'].count())\\\n",
        ".rename(columns={'Consumer disputed?':'Values'}).reset_index()\n",
        "temp.sort_values(by='Values', ascending=False, inplace=True)\n",
        "\n",
        "\n",
        "plt.figure(figsize=(10,5), dpi=100)\n",
        "sns.barplot(data=temp, y='Company response to consumer', x='Values', hue='Consumer disputed?')\n",
        "plt.title(\"Company's Response Leading to Disputes\")\n",
        "plt.xlabel('Number of disputes')\n",
        "plt.show()"
      ]
    },
    {
      "cell_type": "markdown",
      "metadata": {
        "id": "myL-cp2Dpoqb"
      },
      "source": [
        "#### Plot bar graph for the total no of disputes Whether there are Disputes Instead of Timely Response"
      ]
    },
    {
      "cell_type": "code",
      "execution_count": null,
      "metadata": {
        "id": "EyPJWgZUpoqb",
        "outputId": "38efe751-d792-402f-c4cf-33ecbcbe61d3"
      },
      "outputs": [
        {
          "data": {
            "image/png": "[encoded data removed]",
            "text/plain": [
              "<Figure size 1000x500 with 1 Axes>"
            ]
          },
          "metadata": {},
          "output_type": "display_data"
        }
      ],
      "source": [
        "temp = pd.DataFrame(train.groupby(['Timely response?','Consumer disputed?'])['Consumer disputed?'].count())\\\n",
        ".rename(columns={'Consumer disputed?':'Values'}).reset_index()\n",
        "temp.sort_values(by='Values', ascending=False, inplace=True)\n",
        "\n",
        "\n",
        "plt.figure(figsize=(10,5), dpi=100)\n",
        "sns.barplot(data=temp, x='Timely response?', y='Values', hue='Consumer disputed?')\n",
        "plt.title(\"Timely Response vs Disputes\")\n",
        "plt.ylabel('Count of disputes')\n",
        "plt.show()"
      ]
    },
    {
      "cell_type": "markdown",
      "metadata": {
        "id": "t91R-deppoqb"
      },
      "source": [
        "#### Plot bar graph for the total no of disputes over Year Wise Complaints"
      ]
    },
    {
      "cell_type": "code",
      "execution_count": null,
      "metadata": {
        "id": "vGBscEOJpoqb",
        "outputId": "98206f96-821e-4ce7-9efd-63b33a461abd"
      },
      "outputs": [
        {
          "data": {
            "image/png": "[encoded data removed]",
            "text/plain": [
              "<Figure size 1000x500 with 1 Axes>"
            ]
          },
          "metadata": {},
          "output_type": "display_data"
        }
      ],
      "source": [
        "temp = pd.DataFrame(train.groupby(['Year_Received'])['Consumer disputed?'].count()).rename(columns={'Consumer disputed?':'Total Complaints'})\n",
        "temp['Total Disputes'] = disputed_cons.groupby(['Year_Received'])['Consumer disputed?'].count()\n",
        "temp.reset_index(inplace=True)\n",
        "temp = temp.melt(id_vars='Year_Received',var_name='Category', value_name='Value' )\n",
        "\n",
        "\n",
        "plt.figure(figsize=(10,5), dpi=100)\n",
        "sns.barplot(data=temp, x='Year_Received', y='Value', hue='Category')\n",
        "plt.title(\"Year Wise Complaints vs total no of disputes\")\n",
        "plt.ylabel('Number of disputes')\n",
        "plt.show()"
      ]
    },
    {
      "cell_type": "markdown",
      "metadata": {
        "id": "xT4ZwSo0poqc"
      },
      "source": [
        "#### Plot bar graph for the total no of disputes over Year Wise Disputes"
      ]
    },
    {
      "cell_type": "code",
      "execution_count": null,
      "metadata": {
        "id": "ADdy8Zavpoqc",
        "outputId": "dab96b6b-da75-4900-dab0-2df4361fcf68"
      },
      "outputs": [
        {
          "data": {
            "image/png": "[encoded data removed]",
            "text/plain": [
              "<Figure size 1000x500 with 1 Axes>"
            ]
          },
          "metadata": {},
          "output_type": "display_data"
        }
      ],
      "source": [
        "plt.figure(figsize=(10,5), dpi=100)\n",
        "sns.countplot(data=disputed_cons, x='Year_Received')\n",
        "plt.title(\"Year Wise Disputes\")\n",
        "plt.ylabel('Number of disputes')\n",
        "plt.show()"
      ]
    },
    {
      "cell_type": "markdown",
      "metadata": {
        "id": "5pCBYQhTpoqc"
      },
      "source": [
        "#### Plot  bar graph for the top companies with highest complaints"
      ]
    },
    {
      "cell_type": "code",
      "execution_count": null,
      "metadata": {
        "id": "0ovADVRSpoqc",
        "outputId": "b0dc6853-33d8-46f7-eeab-30c6ea39b177"
      },
      "outputs": [
        {
          "data": {
            "image/png": "[encoded data removed]",
            "text/plain": [
              "<Figure size 1000x500 with 1 Axes>"
            ]
          },
          "metadata": {},
          "output_type": "display_data"
        }
      ],
      "source": [
        "temp = pd.DataFrame(train.groupby(['Company'])['Consumer disputed?'].count())\\\n",
        ".rename(columns={'Consumer disputed?':'Values'}).reset_index()\n",
        "temp = temp.sort_values(by='Values', ascending=False).head(10)\n",
        "\n",
        "plt.figure(figsize=(10,5), dpi=100)\n",
        "sns.barplot(data=temp, y='Company', x='Values' )\n",
        "plt.title(\"Top 10 Companies with highest complaints\")\n",
        "plt.xlabel('Number of complaints')\n",
        "plt.ylabel('')\n",
        "plt.show()"
      ]
    },
    {
      "cell_type": "markdown",
      "metadata": {
        "id": "d_VB1_2Qpoqc"
      },
      "source": [
        "#### \"Days Held\" Column Analysis(describe)"
      ]
    },
    {
      "cell_type": "code",
      "execution_count": null,
      "metadata": {
        "id": "qEPpMRYvDMNw",
        "outputId": "b985a1ad-3d64-483f-e92d-f3ca04520b4b"
      },
      "outputs": [
        {
          "data": {
            "text/html": [
              "<div>\n",
              "<style scoped>\n",
              "    .dataframe tbody tr th:only-of-type {\n",
              "        vertical-align: middle;\n",
              "    }\n",
              "\n",
              "    .dataframe tbody tr th {\n",
              "        vertical-align: top;\n",
              "    }\n",
              "\n",
              "    .dataframe thead th {\n",
              "        text-align: right;\n",
              "    }\n",
              "</style>\n",
              "<table border=\"1\" class=\"dataframe\">\n",
              "  <thead>\n",
              "    <tr style=\"text-align: right;\">\n",
              "      <th></th>\n",
              "      <th>Year_Received</th>\n",
              "      <th>Month_Received</th>\n",
              "      <th>Days held</th>\n",
              "      <th>Week</th>\n",
              "    </tr>\n",
              "  </thead>\n",
              "  <tbody>\n",
              "    <tr>\n",
              "      <th>count</th>\n",
              "      <td>358810.000000</td>\n",
              "      <td>358810.000000</td>\n",
              "      <td>358810.000000</td>\n",
              "      <td>358810.000000</td>\n",
              "    </tr>\n",
              "    <tr>\n",
              "      <th>mean</th>\n",
              "      <td>2014.183629</td>\n",
              "      <td>6.151858</td>\n",
              "      <td>4.456339</td>\n",
              "      <td>2.851361</td>\n",
              "    </tr>\n",
              "    <tr>\n",
              "      <th>std</th>\n",
              "      <td>1.268063</td>\n",
              "      <td>3.356024</td>\n",
              "      <td>16.741676</td>\n",
              "      <td>1.286685</td>\n",
              "    </tr>\n",
              "    <tr>\n",
              "      <th>min</th>\n",
              "      <td>2011.000000</td>\n",
              "      <td>1.000000</td>\n",
              "      <td>-1.000000</td>\n",
              "      <td>1.000000</td>\n",
              "    </tr>\n",
              "    <tr>\n",
              "      <th>25%</th>\n",
              "      <td>2013.000000</td>\n",
              "      <td>3.000000</td>\n",
              "      <td>0.000000</td>\n",
              "      <td>2.000000</td>\n",
              "    </tr>\n",
              "    <tr>\n",
              "      <th>50%</th>\n",
              "      <td>2014.000000</td>\n",
              "      <td>6.000000</td>\n",
              "      <td>1.000000</td>\n",
              "      <td>4.000000</td>\n",
              "    </tr>\n",
              "    <tr>\n",
              "      <th>75%</th>\n",
              "      <td>2015.000000</td>\n",
              "      <td>9.000000</td>\n",
              "      <td>4.000000</td>\n",
              "      <td>4.000000</td>\n",
              "    </tr>\n",
              "    <tr>\n",
              "      <th>max</th>\n",
              "      <td>2016.000000</td>\n",
              "      <td>12.000000</td>\n",
              "      <td>993.000000</td>\n",
              "      <td>4.000000</td>\n",
              "    </tr>\n",
              "  </tbody>\n",
              "</table>\n",
              "</div>"
            ],
            "text/plain": [
              "       Year_Received  Month_Received      Days held           Week\n",
              "count  358810.000000   358810.000000  358810.000000  358810.000000\n",
              "mean     2014.183629        6.151858       4.456339       2.851361\n",
              "std         1.268063        3.356024      16.741676       1.286685\n",
              "min      2011.000000        1.000000      -1.000000       1.000000\n",
              "25%      2013.000000        3.000000       0.000000       2.000000\n",
              "50%      2014.000000        6.000000       1.000000       4.000000\n",
              "75%      2015.000000        9.000000       4.000000       4.000000\n",
              "max      2016.000000       12.000000     993.000000       4.000000"
            ]
          },
          "execution_count": 42,
          "metadata": {},
          "output_type": "execute_result"
        }
      ],
      "source": [
        "train.describe()"
      ]
    },
    {
      "cell_type": "code",
      "execution_count": null,
      "metadata": {
        "id": "JdOgCLgaDMNw",
        "outputId": "cdc3e041-b16f-418a-d936-5964c14be50f"
      },
      "outputs": [
        {
          "data": {
            "image/png": "[encoded data removed]",
            "text/plain": [
              "<Figure size 400x200 with 1 Axes>"
            ]
          },
          "metadata": {},
          "output_type": "display_data"
        }
      ],
      "source": [
        "plt.figure(figsize=(4,2))\n",
        "sns.distplot(train['Days held'])\n",
        "plt.show()"
      ]
    },
    {
      "cell_type": "markdown",
      "metadata": {
        "id": "fan0xohapoqd"
      },
      "source": [
        "['Days held'] analysis\n",
        "- It ranges from -1 to 993\n",
        "- It has a right tail as mean is greater that the median"
      ]
    },
    {
      "cell_type": "markdown",
      "metadata": {
        "id": "vlLBckNcpoqd"
      },
      "source": [
        "#### Convert Negative Days Held to Zero(it is the time taken by authority can't be negative)"
      ]
    },
    {
      "cell_type": "code",
      "execution_count": null,
      "metadata": {
        "id": "qLPLLq6Ppoqd"
      },
      "outputs": [],
      "source": [
        "train['Days held'] = train['Days held'].apply(lambda x: 0 if x < 0 else x)\n",
        "test['Days held'] = test['Days held'].apply(lambda x: 0 if x < 0 else x)"
      ]
    },
    {
      "cell_type": "markdown",
      "metadata": {
        "id": "oPGVV2cypoqe"
      },
      "source": [
        "#### Text pre-processing\n",
        "(It will be cover in upcoming calsses)"
      ]
    },
    {
      "cell_type": "code",
      "execution_count": null,
      "metadata": {
        "id": "jd3seX00DMNx"
      },
      "outputs": [],
      "source": [
        "import nltk\n",
        "import string\n",
        "from nltk import sent_tokenize, word_tokenize\n",
        "from nltk.tokenize import wordpunct_tokenize\n",
        "from nltk.corpus import stopwords\n",
        "from string import punctuation\n",
        "from nltk.stem import PorterStemmer\n",
        "from nltk.stem import WordNetLemmatizer"
      ]
    },
    {
      "cell_type": "code",
      "execution_count": null,
      "metadata": {
        "id": "tqke6Z_SDMNx",
        "outputId": "d16c4245-318a-4058-cc74-5e3aa356be0c"
      },
      "outputs": [
        {
          "name": "stderr",
          "output_type": "stream",
          "text": [
            "[nltk_data] Downloading package punkt to\n",
            "[nltk_data]     C:\\Users\\maria\\AppData\\Roaming\\nltk_data...\n",
            "[nltk_data]   Package punkt is already up-to-date!\n",
            "[nltk_data] Downloading package stopwords to\n",
            "[nltk_data]     C:\\Users\\maria\\AppData\\Roaming\\nltk_data...\n",
            "[nltk_data]   Package stopwords is already up-to-date!\n",
            "[nltk_data] Downloading package wordnet to\n",
            "[nltk_data]     C:\\Users\\maria\\AppData\\Roaming\\nltk_data...\n",
            "[nltk_data]   Package wordnet is already up-to-date!\n"
          ]
        },
        {
          "data": {
            "text/plain": [
              "True"
            ]
          },
          "execution_count": 46,
          "metadata": {},
          "output_type": "execute_result"
        }
      ],
      "source": [
        "nltk.download('punkt')\n",
        "nltk.download('stopwords')\n",
        "nltk.download('wordnet')"
      ]
    },
    {
      "cell_type": "code",
      "execution_count": null,
      "metadata": {
        "id": "wUs9mtE-poqe"
      },
      "outputs": [],
      "source": [
        "relevant_text_train = train['Issue']\n",
        "relevant_text_test = test['Issue']\n",
        "tokenized_data_train = relevant_text_train.apply(lambda x: wordpunct_tokenize(x.lower()))\n",
        "tokenized_data_test = relevant_text_test.apply(lambda x: wordpunct_tokenize(x.lower()))\n",
        "def remove_punctuation(text):\n",
        "    no_punctuation = []\n",
        "    for w in text:\n",
        "        if w not in string.punctuation:\n",
        "            no_punctuation.append(w)\n",
        "    return no_punctuation\n",
        "no_punctuation_data_train = tokenized_data_train.apply(lambda x: remove_punctuation(x))\n",
        "no_punctuation_data_test = tokenized_data_test.apply(lambda x: remove_punctuation(x))\n",
        "stop_words = stopwords.words('english')\n",
        "filtered_sentence_train = [w for w in no_punctuation_data_train if not w in stop_words]\n",
        "filtered_sentence_train = pd.Series(filtered_sentence_train)\n",
        "filtered_sentence_test = [w for w in no_punctuation_data_test if not w in stop_words]\n",
        "filtered_sentence_test = pd.Series(filtered_sentence_test)\n",
        "def lemmatize_text(text):\n",
        "    lem_text = [WordNetLemmatizer().lemmatize(w,pos = 'v') for w in text]\n",
        "    return lem_text\n",
        "lemmatized_data_train = filtered_sentence_train.apply(lambda x:lemmatize_text(x))\n",
        "lemmatized_data_test = filtered_sentence_test.apply(lambda x:lemmatize_text(x))\n",
        "def stem_text(text):\n",
        "    stem_text = [PorterStemmer().stem(w) for w in text]\n",
        "    return stem_text\n",
        "stemmed_data_train = lemmatized_data_train.apply(lambda x:stem_text(x))\n",
        "stemmed_data_test = lemmatized_data_test.apply(lambda x:stem_text(x))\n",
        "def word_to_sentence(text):\n",
        "    text_sentence = \" \".join(text)\n",
        "    return text_sentence\n",
        "clean_data_train = stemmed_data_train.apply(lambda x:word_to_sentence(x))\n",
        "clean_data_test = stemmed_data_test.apply(lambda x:word_to_sentence(x))"
      ]
    },
    {
      "cell_type": "code",
      "execution_count": null,
      "metadata": {
        "id": "WFlUCeGxpoqf"
      },
      "outputs": [],
      "source": [
        "train['Issues_cleaned'] = clean_data_train\n",
        "test['Issues_cleaned'] = clean_data_test\n",
        "train = train.drop('Issue', axis = 1)\n",
        "test = test.drop('Issue', axis = 1)"
      ]
    },
    {
      "cell_type": "markdown",
      "metadata": {
        "id": "7h1ZLZwSpoqg"
      },
      "source": [
        "#### Drop Unnecessary Columns for the Model Building<br>\n",
        "like:'Company', 'State', 'Year_Received', 'Days_held'"
      ]
    },
    {
      "cell_type": "code",
      "execution_count": null,
      "metadata": {
        "id": "JAhztPQ9poqg"
      },
      "outputs": [],
      "source": [
        "from feature_engine.selection import DropFeatures\n",
        "\n",
        "irrelevant_features = ['Company', 'State', 'Year_Received', 'Days held']\n",
        "\n",
        "# Instantiate\n",
        "drop_irrelevant_features = DropFeatures(features_to_drop = irrelevant_features)\n",
        "\n",
        "# Fit-transform\n",
        "train = drop_irrelevant_features.fit_transform(train)\n",
        "test = drop_irrelevant_features.fit_transform(test)"
      ]
    },
    {
      "cell_type": "code",
      "execution_count": null,
      "metadata": {
        "id": "XLHbkGO-DMNy",
        "outputId": "f89e39fc-0a6b-43ea-8766-9656f33faddc"
      },
      "outputs": [
        {
          "data": {
            "text/html": [
              "<div>\n",
              "<style scoped>\n",
              "    .dataframe tbody tr th:only-of-type {\n",
              "        vertical-align: middle;\n",
              "    }\n",
              "\n",
              "    .dataframe tbody tr th {\n",
              "        vertical-align: top;\n",
              "    }\n",
              "\n",
              "    .dataframe thead th {\n",
              "        text-align: right;\n",
              "    }\n",
              "</style>\n",
              "<table border=\"1\" class=\"dataframe\">\n",
              "  <thead>\n",
              "    <tr style=\"text-align: right;\">\n",
              "      <th></th>\n",
              "      <th>Product</th>\n",
              "      <th>Submitted via</th>\n",
              "      <th>Company response to consumer</th>\n",
              "      <th>Timely response?</th>\n",
              "      <th>Consumer disputed?</th>\n",
              "      <th>Month_Received</th>\n",
              "      <th>Week</th>\n",
              "      <th>Issues_cleaned</th>\n",
              "    </tr>\n",
              "  </thead>\n",
              "  <tbody>\n",
              "    <tr>\n",
              "      <th>0</th>\n",
              "      <td>Credit reporting</td>\n",
              "      <td>Web</td>\n",
              "      <td>Closed with explanation</td>\n",
              "      <td>Yes</td>\n",
              "      <td>No</td>\n",
              "      <td>10</td>\n",
              "      <td>2</td>\n",
              "      <td>incorrect inform on credit report</td>\n",
              "    </tr>\n",
              "    <tr>\n",
              "      <th>1</th>\n",
              "      <td>Bank account or service</td>\n",
              "      <td>Web</td>\n",
              "      <td>Closed with explanation</td>\n",
              "      <td>Yes</td>\n",
              "      <td>Yes</td>\n",
              "      <td>4</td>\n",
              "      <td>4</td>\n",
              "      <td>deposit and withdraw</td>\n",
              "    </tr>\n",
              "  </tbody>\n",
              "</table>\n",
              "</div>"
            ],
            "text/plain": [
              "                   Product Submitted via Company response to consumer  \\\n",
              "0         Credit reporting           Web      Closed with explanation   \n",
              "1  Bank account or service           Web      Closed with explanation   \n",
              "\n",
              "  Timely response? Consumer disputed?  Month_Received  Week  \\\n",
              "0              Yes                 No              10     2   \n",
              "1              Yes                Yes               4     4   \n",
              "\n",
              "                      Issues_cleaned  \n",
              "0  incorrect inform on credit report  \n",
              "1               deposit and withdraw  "
            ]
          },
          "execution_count": 50,
          "metadata": {},
          "output_type": "execute_result"
        }
      ],
      "source": [
        "train.head(2)"
      ]
    },
    {
      "cell_type": "markdown",
      "metadata": {
        "id": "MbQVqtzqpoqg"
      },
      "source": [
        "#### Change Consumer Disputed Column to 0 and 1(yes to 1, and no to 0)"
      ]
    },
    {
      "cell_type": "code",
      "execution_count": null,
      "metadata": {
        "id": "rYaesKiVpoqh",
        "outputId": "1839c26f-3627-4c6d-f834-29dcd0c5cd88"
      },
      "outputs": [
        {
          "data": {
            "text/html": [
              "<div>\n",
              "<style scoped>\n",
              "    .dataframe tbody tr th:only-of-type {\n",
              "        vertical-align: middle;\n",
              "    }\n",
              "\n",
              "    .dataframe tbody tr th {\n",
              "        vertical-align: top;\n",
              "    }\n",
              "\n",
              "    .dataframe thead th {\n",
              "        text-align: right;\n",
              "    }\n",
              "</style>\n",
              "<table border=\"1\" class=\"dataframe\">\n",
              "  <thead>\n",
              "    <tr style=\"text-align: right;\">\n",
              "      <th></th>\n",
              "      <th>Product</th>\n",
              "      <th>Submitted via</th>\n",
              "      <th>Company response to consumer</th>\n",
              "      <th>Timely response?</th>\n",
              "      <th>Consumer disputed?</th>\n",
              "      <th>Month_Received</th>\n",
              "      <th>Week</th>\n",
              "      <th>Issues_cleaned</th>\n",
              "    </tr>\n",
              "  </thead>\n",
              "  <tbody>\n",
              "    <tr>\n",
              "      <th>0</th>\n",
              "      <td>Credit reporting</td>\n",
              "      <td>Web</td>\n",
              "      <td>Closed with explanation</td>\n",
              "      <td>Yes</td>\n",
              "      <td>0</td>\n",
              "      <td>10</td>\n",
              "      <td>2</td>\n",
              "      <td>incorrect inform on credit report</td>\n",
              "    </tr>\n",
              "    <tr>\n",
              "      <th>1</th>\n",
              "      <td>Bank account or service</td>\n",
              "      <td>Web</td>\n",
              "      <td>Closed with explanation</td>\n",
              "      <td>Yes</td>\n",
              "      <td>1</td>\n",
              "      <td>4</td>\n",
              "      <td>4</td>\n",
              "      <td>deposit and withdraw</td>\n",
              "    </tr>\n",
              "  </tbody>\n",
              "</table>\n",
              "</div>"
            ],
            "text/plain": [
              "                   Product Submitted via Company response to consumer  \\\n",
              "0         Credit reporting           Web      Closed with explanation   \n",
              "1  Bank account or service           Web      Closed with explanation   \n",
              "\n",
              "  Timely response?  Consumer disputed?  Month_Received  Week  \\\n",
              "0              Yes                   0              10     2   \n",
              "1              Yes                   1               4     4   \n",
              "\n",
              "                      Issues_cleaned  \n",
              "0  incorrect inform on credit report  \n",
              "1               deposit and withdraw  "
            ]
          },
          "execution_count": 51,
          "metadata": {},
          "output_type": "execute_result"
        }
      ],
      "source": [
        "train['Consumer disputed?'] = np.where(train['Consumer disputed?']=='Yes',1,0)\n",
        "train.head(2)"
      ]
    },
    {
      "cell_type": "markdown",
      "metadata": {
        "id": "Cf3IZk9Upoqh"
      },
      "source": [
        "#### Create Dummy Variables for catagorical features\n",
        "like: 'Product', 'Submitted via', 'Company response to consumer', 'Timely response?'"
      ]
    },
    {
      "cell_type": "code",
      "execution_count": null,
      "metadata": {
        "id": "aZR2mdiIpoqh",
        "outputId": "f9b32636-42df-4ef9-d4bb-37ca4ae5a5e6"
      },
      "outputs": [
        {
          "data": {
            "text/html": [
              "<div>\n",
              "<style scoped>\n",
              "    .dataframe tbody tr th:only-of-type {\n",
              "        vertical-align: middle;\n",
              "    }\n",
              "\n",
              "    .dataframe tbody tr th {\n",
              "        vertical-align: top;\n",
              "    }\n",
              "\n",
              "    .dataframe thead th {\n",
              "        text-align: right;\n",
              "    }\n",
              "</style>\n",
              "<table border=\"1\" class=\"dataframe\">\n",
              "  <thead>\n",
              "    <tr style=\"text-align: right;\">\n",
              "      <th></th>\n",
              "      <th>Product_Bank account or service</th>\n",
              "      <th>Product_Consumer Loan</th>\n",
              "      <th>Product_Credit card</th>\n",
              "      <th>Product_Credit reporting</th>\n",
              "      <th>Product_Debt collection</th>\n",
              "      <th>Product_Money transfers</th>\n",
              "      <th>Product_Mortgage</th>\n",
              "      <th>Product_Other financial service</th>\n",
              "      <th>Product_Payday loan</th>\n",
              "      <th>Product_Prepaid card</th>\n",
              "      <th>...</th>\n",
              "      <th>Submitted via_Referral</th>\n",
              "      <th>Submitted via_Web</th>\n",
              "      <th>Company response to consumer_Closed</th>\n",
              "      <th>Company response to consumer_Closed with explanation</th>\n",
              "      <th>Company response to consumer_Closed with monetary relief</th>\n",
              "      <th>Company response to consumer_Closed with non-monetary relief</th>\n",
              "      <th>Company response to consumer_Closed with relief</th>\n",
              "      <th>Company response to consumer_Closed without relief</th>\n",
              "      <th>Timely response?_No</th>\n",
              "      <th>Timely response?_Yes</th>\n",
              "    </tr>\n",
              "  </thead>\n",
              "  <tbody>\n",
              "    <tr>\n",
              "      <th>0</th>\n",
              "      <td>0</td>\n",
              "      <td>0</td>\n",
              "      <td>1</td>\n",
              "      <td>0</td>\n",
              "      <td>0</td>\n",
              "      <td>0</td>\n",
              "      <td>0</td>\n",
              "      <td>0</td>\n",
              "      <td>0</td>\n",
              "      <td>0</td>\n",
              "      <td>...</td>\n",
              "      <td>0</td>\n",
              "      <td>1</td>\n",
              "      <td>0</td>\n",
              "      <td>0</td>\n",
              "      <td>1</td>\n",
              "      <td>0</td>\n",
              "      <td>0</td>\n",
              "      <td>0</td>\n",
              "      <td>0</td>\n",
              "      <td>1</td>\n",
              "    </tr>\n",
              "    <tr>\n",
              "      <th>1</th>\n",
              "      <td>0</td>\n",
              "      <td>1</td>\n",
              "      <td>0</td>\n",
              "      <td>0</td>\n",
              "      <td>0</td>\n",
              "      <td>0</td>\n",
              "      <td>0</td>\n",
              "      <td>0</td>\n",
              "      <td>0</td>\n",
              "      <td>0</td>\n",
              "      <td>...</td>\n",
              "      <td>0</td>\n",
              "      <td>0</td>\n",
              "      <td>0</td>\n",
              "      <td>1</td>\n",
              "      <td>0</td>\n",
              "      <td>0</td>\n",
              "      <td>0</td>\n",
              "      <td>0</td>\n",
              "      <td>0</td>\n",
              "      <td>1</td>\n",
              "    </tr>\n",
              "    <tr>\n",
              "      <th>2</th>\n",
              "      <td>0</td>\n",
              "      <td>0</td>\n",
              "      <td>1</td>\n",
              "      <td>0</td>\n",
              "      <td>0</td>\n",
              "      <td>0</td>\n",
              "      <td>0</td>\n",
              "      <td>0</td>\n",
              "      <td>0</td>\n",
              "      <td>0</td>\n",
              "      <td>...</td>\n",
              "      <td>0</td>\n",
              "      <td>1</td>\n",
              "      <td>0</td>\n",
              "      <td>1</td>\n",
              "      <td>0</td>\n",
              "      <td>0</td>\n",
              "      <td>0</td>\n",
              "      <td>0</td>\n",
              "      <td>0</td>\n",
              "      <td>1</td>\n",
              "    </tr>\n",
              "    <tr>\n",
              "      <th>3</th>\n",
              "      <td>0</td>\n",
              "      <td>1</td>\n",
              "      <td>0</td>\n",
              "      <td>0</td>\n",
              "      <td>0</td>\n",
              "      <td>0</td>\n",
              "      <td>0</td>\n",
              "      <td>0</td>\n",
              "      <td>0</td>\n",
              "      <td>0</td>\n",
              "      <td>...</td>\n",
              "      <td>0</td>\n",
              "      <td>1</td>\n",
              "      <td>0</td>\n",
              "      <td>0</td>\n",
              "      <td>0</td>\n",
              "      <td>1</td>\n",
              "      <td>0</td>\n",
              "      <td>0</td>\n",
              "      <td>0</td>\n",
              "      <td>1</td>\n",
              "    </tr>\n",
              "    <tr>\n",
              "      <th>4</th>\n",
              "      <td>0</td>\n",
              "      <td>0</td>\n",
              "      <td>0</td>\n",
              "      <td>0</td>\n",
              "      <td>1</td>\n",
              "      <td>0</td>\n",
              "      <td>0</td>\n",
              "      <td>0</td>\n",
              "      <td>0</td>\n",
              "      <td>0</td>\n",
              "      <td>...</td>\n",
              "      <td>0</td>\n",
              "      <td>1</td>\n",
              "      <td>0</td>\n",
              "      <td>1</td>\n",
              "      <td>0</td>\n",
              "      <td>0</td>\n",
              "      <td>0</td>\n",
              "      <td>0</td>\n",
              "      <td>0</td>\n",
              "      <td>1</td>\n",
              "    </tr>\n",
              "  </tbody>\n",
              "</table>\n",
              "<p>5 rows × 26 columns</p>\n",
              "</div>"
            ],
            "text/plain": [
              "   Product_Bank account or service  Product_Consumer Loan  \\\n",
              "0                                0                      0   \n",
              "1                                0                      1   \n",
              "2                                0                      0   \n",
              "3                                0                      1   \n",
              "4                                0                      0   \n",
              "\n",
              "   Product_Credit card  Product_Credit reporting  Product_Debt collection  \\\n",
              "0                    1                         0                        0   \n",
              "1                    0                         0                        0   \n",
              "2                    1                         0                        0   \n",
              "3                    0                         0                        0   \n",
              "4                    0                         0                        1   \n",
              "\n",
              "   Product_Money transfers  Product_Mortgage  Product_Other financial service  \\\n",
              "0                        0                 0                                0   \n",
              "1                        0                 0                                0   \n",
              "2                        0                 0                                0   \n",
              "3                        0                 0                                0   \n",
              "4                        0                 0                                0   \n",
              "\n",
              "   Product_Payday loan  Product_Prepaid card  ...  Submitted via_Referral  \\\n",
              "0                    0                     0  ...                       0   \n",
              "1                    0                     0  ...                       0   \n",
              "2                    0                     0  ...                       0   \n",
              "3                    0                     0  ...                       0   \n",
              "4                    0                     0  ...                       0   \n",
              "\n",
              "   Submitted via_Web  Company response to consumer_Closed  \\\n",
              "0                  1                                    0   \n",
              "1                  0                                    0   \n",
              "2                  1                                    0   \n",
              "3                  1                                    0   \n",
              "4                  1                                    0   \n",
              "\n",
              "   Company response to consumer_Closed with explanation  \\\n",
              "0                                                  0      \n",
              "1                                                  1      \n",
              "2                                                  1      \n",
              "3                                                  0      \n",
              "4                                                  1      \n",
              "\n",
              "   Company response to consumer_Closed with monetary relief  \\\n",
              "0                                                  1          \n",
              "1                                                  0          \n",
              "2                                                  0          \n",
              "3                                                  0          \n",
              "4                                                  0          \n",
              "\n",
              "   Company response to consumer_Closed with non-monetary relief  \\\n",
              "0                                                  0              \n",
              "1                                                  0              \n",
              "2                                                  0              \n",
              "3                                                  1              \n",
              "4                                                  0              \n",
              "\n",
              "   Company response to consumer_Closed with relief  \\\n",
              "0                                                0   \n",
              "1                                                0   \n",
              "2                                                0   \n",
              "3                                                0   \n",
              "4                                                0   \n",
              "\n",
              "   Company response to consumer_Closed without relief  Timely response?_No  \\\n",
              "0                                                  0                     0   \n",
              "1                                                  0                     0   \n",
              "2                                                  0                     0   \n",
              "3                                                  0                     0   \n",
              "4                                                  0                     0   \n",
              "\n",
              "   Timely response?_Yes  \n",
              "0                     1  \n",
              "1                     1  \n",
              "2                     1  \n",
              "3                     1  \n",
              "4                     1  \n",
              "\n",
              "[5 rows x 26 columns]"
            ]
          },
          "execution_count": 52,
          "metadata": {},
          "output_type": "execute_result"
        }
      ],
      "source": [
        "encoded_cols = ['Product', 'Submitted via', 'Company response to consumer', 'Timely response?']\n",
        "\n",
        "# Create empty dataframes for train and test dummy variables\n",
        "dummy_train=pd.DataFrame()\n",
        "dummy_test=pd.DataFrame()\n",
        "\n",
        "# Using get_dummies for column encoding in train and test datasets\n",
        "for i,col in enumerate(encoded_cols):\n",
        "    trn = pd.get_dummies(train[col], prefix=col).astype(int)\n",
        "    tst = pd.get_dummies(test[col], prefix=col).astype(int)\n",
        "    dummy_train = pd.concat([dummy_train,trn], axis=1)\n",
        "    dummy_test = pd.concat([dummy_test,tst], axis=1)\n",
        "\n",
        "dummy_test.head()"
      ]
    },
    {
      "cell_type": "markdown",
      "metadata": {
        "id": "t8hd8_Tvpoqh"
      },
      "source": [
        "#### Concate Dummy Variables and Drop the Original Columns"
      ]
    },
    {
      "cell_type": "code",
      "execution_count": null,
      "metadata": {
        "id": "3aU54mOOpoqi",
        "outputId": "c5172b99-84b1-419a-dbd0-d14cd4683782"
      },
      "outputs": [
        {
          "data": {
            "text/html": [
              "<div>\n",
              "<style scoped>\n",
              "    .dataframe tbody tr th:only-of-type {\n",
              "        vertical-align: middle;\n",
              "    }\n",
              "\n",
              "    .dataframe tbody tr th {\n",
              "        vertical-align: top;\n",
              "    }\n",
              "\n",
              "    .dataframe thead th {\n",
              "        text-align: right;\n",
              "    }\n",
              "</style>\n",
              "<table border=\"1\" class=\"dataframe\">\n",
              "  <thead>\n",
              "    <tr style=\"text-align: right;\">\n",
              "      <th></th>\n",
              "      <th>Product_Bank account or service</th>\n",
              "      <th>Product_Consumer Loan</th>\n",
              "      <th>Product_Credit card</th>\n",
              "      <th>Product_Credit reporting</th>\n",
              "      <th>Product_Debt collection</th>\n",
              "      <th>Product_Money transfers</th>\n",
              "      <th>Product_Mortgage</th>\n",
              "      <th>Product_Other financial service</th>\n",
              "      <th>Product_Payday loan</th>\n",
              "      <th>Product_Prepaid card</th>\n",
              "      <th>...</th>\n",
              "      <th>Company response to consumer_Closed with monetary relief</th>\n",
              "      <th>Company response to consumer_Closed with non-monetary relief</th>\n",
              "      <th>Company response to consumer_Closed with relief</th>\n",
              "      <th>Company response to consumer_Closed without relief</th>\n",
              "      <th>Timely response?_No</th>\n",
              "      <th>Timely response?_Yes</th>\n",
              "      <th>Consumer disputed?</th>\n",
              "      <th>Month_Received</th>\n",
              "      <th>Week</th>\n",
              "      <th>Issues_cleaned</th>\n",
              "    </tr>\n",
              "  </thead>\n",
              "  <tbody>\n",
              "    <tr>\n",
              "      <th>0</th>\n",
              "      <td>0</td>\n",
              "      <td>0</td>\n",
              "      <td>0</td>\n",
              "      <td>1</td>\n",
              "      <td>0</td>\n",
              "      <td>0</td>\n",
              "      <td>0</td>\n",
              "      <td>0</td>\n",
              "      <td>0</td>\n",
              "      <td>0</td>\n",
              "      <td>...</td>\n",
              "      <td>0</td>\n",
              "      <td>0</td>\n",
              "      <td>0</td>\n",
              "      <td>0</td>\n",
              "      <td>0</td>\n",
              "      <td>1</td>\n",
              "      <td>0</td>\n",
              "      <td>10</td>\n",
              "      <td>2</td>\n",
              "      <td>incorrect inform on credit report</td>\n",
              "    </tr>\n",
              "    <tr>\n",
              "      <th>1</th>\n",
              "      <td>1</td>\n",
              "      <td>0</td>\n",
              "      <td>0</td>\n",
              "      <td>0</td>\n",
              "      <td>0</td>\n",
              "      <td>0</td>\n",
              "      <td>0</td>\n",
              "      <td>0</td>\n",
              "      <td>0</td>\n",
              "      <td>0</td>\n",
              "      <td>...</td>\n",
              "      <td>0</td>\n",
              "      <td>0</td>\n",
              "      <td>0</td>\n",
              "      <td>0</td>\n",
              "      <td>0</td>\n",
              "      <td>1</td>\n",
              "      <td>1</td>\n",
              "      <td>4</td>\n",
              "      <td>4</td>\n",
              "      <td>deposit and withdraw</td>\n",
              "    </tr>\n",
              "  </tbody>\n",
              "</table>\n",
              "<p>2 rows × 30 columns</p>\n",
              "</div>"
            ],
            "text/plain": [
              "   Product_Bank account or service  Product_Consumer Loan  \\\n",
              "0                                0                      0   \n",
              "1                                1                      0   \n",
              "\n",
              "   Product_Credit card  Product_Credit reporting  Product_Debt collection  \\\n",
              "0                    0                         1                        0   \n",
              "1                    0                         0                        0   \n",
              "\n",
              "   Product_Money transfers  Product_Mortgage  Product_Other financial service  \\\n",
              "0                        0                 0                                0   \n",
              "1                        0                 0                                0   \n",
              "\n",
              "   Product_Payday loan  Product_Prepaid card  ...  \\\n",
              "0                    0                     0  ...   \n",
              "1                    0                     0  ...   \n",
              "\n",
              "   Company response to consumer_Closed with monetary relief  \\\n",
              "0                                                  0          \n",
              "1                                                  0          \n",
              "\n",
              "   Company response to consumer_Closed with non-monetary relief  \\\n",
              "0                                                  0              \n",
              "1                                                  0              \n",
              "\n",
              "   Company response to consumer_Closed with relief  \\\n",
              "0                                                0   \n",
              "1                                                0   \n",
              "\n",
              "   Company response to consumer_Closed without relief  Timely response?_No  \\\n",
              "0                                                  0                     0   \n",
              "1                                                  0                     0   \n",
              "\n",
              "   Timely response?_Yes  Consumer disputed?  Month_Received  Week  \\\n",
              "0                     1                   0              10     2   \n",
              "1                     1                   1               4     4   \n",
              "\n",
              "                      Issues_cleaned  \n",
              "0  incorrect inform on credit report  \n",
              "1               deposit and withdraw  \n",
              "\n",
              "[2 rows x 30 columns]"
            ]
          },
          "execution_count": 53,
          "metadata": {},
          "output_type": "execute_result"
        }
      ],
      "source": [
        "# Concatenate dummy variables with original dataframe\n",
        "train = pd.concat([dummy_train,train], axis=1)\n",
        "test = pd.concat([dummy_test,test], axis=1)\n",
        "\n",
        "# Drop original columns\n",
        "train.drop(columns=encoded_cols, inplace=True)\n",
        "test.drop(columns=encoded_cols, inplace=True)\n",
        "\n",
        "train.head(2)"
      ]
    },
    {
      "cell_type": "markdown",
      "metadata": {
        "id": "q49q-yVxpoqi"
      },
      "source": [
        "#### Calculating TF-IDF"
      ]
    },
    {
      "cell_type": "code",
      "execution_count": null,
      "metadata": {
        "id": "xsuxLlykpoqi",
        "outputId": "893c3342-7a78-4eea-fcea-448ad04f1cbe"
      },
      "outputs": [
        {
          "data": {
            "text/html": [
              "<div>\n",
              "<style scoped>\n",
              "    .dataframe tbody tr th:only-of-type {\n",
              "        vertical-align: middle;\n",
              "    }\n",
              "\n",
              "    .dataframe tbody tr th {\n",
              "        vertical-align: top;\n",
              "    }\n",
              "\n",
              "    .dataframe thead th {\n",
              "        text-align: right;\n",
              "    }\n",
              "</style>\n",
              "<table border=\"1\" class=\"dataframe\">\n",
              "  <thead>\n",
              "    <tr style=\"text-align: right;\">\n",
              "      <th></th>\n",
              "      <th>Idf_weights</th>\n",
              "    </tr>\n",
              "  </thead>\n",
              "  <tbody>\n",
              "    <tr>\n",
              "      <th>exchang</th>\n",
              "      <td>11.998819</td>\n",
              "    </tr>\n",
              "    <tr>\n",
              "      <th>damag</th>\n",
              "      <td>11.593354</td>\n",
              "    </tr>\n",
              "    <tr>\n",
              "      <th>destroy</th>\n",
              "      <td>11.593354</td>\n",
              "    </tr>\n",
              "    <tr>\n",
              "      <th>overdraft</th>\n",
              "      <td>11.305672</td>\n",
              "    </tr>\n",
              "    <tr>\n",
              "      <th>featur</th>\n",
              "      <td>11.305672</td>\n",
              "    </tr>\n",
              "  </tbody>\n",
              "</table>\n",
              "</div>"
            ],
            "text/plain": [
              "           Idf_weights\n",
              "exchang      11.998819\n",
              "damag        11.593354\n",
              "destroy      11.593354\n",
              "overdraft    11.305672\n",
              "featur       11.305672"
            ]
          },
          "execution_count": 54,
          "metadata": {},
          "output_type": "execute_result"
        }
      ],
      "source": [
        "from sklearn.feature_extraction.text import TfidfVectorizer\n",
        "\n",
        "tf = TfidfVectorizer()\n",
        "issues_cleaned_train = tf.fit_transform(train['Issues_cleaned']).toarray()\n",
        "issues_cleaned_test = tf.fit_transform(test['Issues_cleaned']).toarray()\n",
        "tf_columns_train = []\n",
        "tf_columns_test = []\n",
        "for i in range(issues_cleaned_train.shape[1]):\n",
        "    tf_columns_train.append('Feature' + str(i+1))\n",
        "for i in range(issues_cleaned_test.shape[1]):\n",
        "    tf_columns_test.append('Feature' + str(i+1))\n",
        "issues_train = pd.DataFrame(issues_cleaned_train, columns = tf_columns_train)\n",
        "issues_test = pd.DataFrame(issues_cleaned_test, columns = tf_columns_test)\n",
        "weights = pd.DataFrame(tf.idf_, index = tf.get_feature_names_out(), columns = ['Idf_weights']).sort_values(by = 'Idf_weights', ascending = False)\n",
        "weights.head()"
      ]
    },
    {
      "cell_type": "markdown",
      "metadata": {
        "id": "rxPhTO_Qpoqi"
      },
      "source": [
        "#### Replacing Issues_cleaned by Vectorized Issues"
      ]
    },
    {
      "cell_type": "code",
      "execution_count": null,
      "metadata": {
        "id": "ScmPUijrpoqi"
      },
      "outputs": [],
      "source": [
        "train = train.drop('Issues_cleaned', axis = 1)\n",
        "test = test.drop('Issues_cleaned', axis = 1)\n",
        "train = pd.concat([train, issues_train], axis = 1)\n",
        "test = pd.concat([test, issues_test], axis = 1)\n",
        "Feature168 = [0] * 119606\n",
        "test['Feature168'] = Feature168"
      ]
    },
    {
      "cell_type": "markdown",
      "metadata": {
        "id": "EwK9D-o-poqj"
      },
      "source": [
        "#### observe train and test datasets"
      ]
    },
    {
      "cell_type": "code",
      "execution_count": null,
      "metadata": {
        "id": "OlTcTkPopoqj",
        "scrolled": true,
        "outputId": "d1768161-332a-41a0-a880-8e530e74f699"
      },
      "outputs": [
        {
          "data": {
            "text/html": [
              "<div>\n",
              "<style scoped>\n",
              "    .dataframe tbody tr th:only-of-type {\n",
              "        vertical-align: middle;\n",
              "    }\n",
              "\n",
              "    .dataframe tbody tr th {\n",
              "        vertical-align: top;\n",
              "    }\n",
              "\n",
              "    .dataframe thead th {\n",
              "        text-align: right;\n",
              "    }\n",
              "</style>\n",
              "<table border=\"1\" class=\"dataframe\">\n",
              "  <thead>\n",
              "    <tr style=\"text-align: right;\">\n",
              "      <th></th>\n",
              "      <th>Product_Bank account or service</th>\n",
              "      <th>Product_Consumer Loan</th>\n",
              "      <th>Product_Credit card</th>\n",
              "      <th>Product_Credit reporting</th>\n",
              "      <th>Product_Debt collection</th>\n",
              "      <th>Product_Money transfers</th>\n",
              "      <th>Product_Mortgage</th>\n",
              "      <th>Product_Other financial service</th>\n",
              "      <th>Product_Payday loan</th>\n",
              "      <th>Product_Prepaid card</th>\n",
              "      <th>...</th>\n",
              "      <th>Feature159</th>\n",
              "      <th>Feature160</th>\n",
              "      <th>Feature161</th>\n",
              "      <th>Feature162</th>\n",
              "      <th>Feature163</th>\n",
              "      <th>Feature164</th>\n",
              "      <th>Feature165</th>\n",
              "      <th>Feature166</th>\n",
              "      <th>Feature167</th>\n",
              "      <th>Feature168</th>\n",
              "    </tr>\n",
              "  </thead>\n",
              "  <tbody>\n",
              "    <tr>\n",
              "      <th>0</th>\n",
              "      <td>0</td>\n",
              "      <td>0</td>\n",
              "      <td>0</td>\n",
              "      <td>1</td>\n",
              "      <td>0</td>\n",
              "      <td>0</td>\n",
              "      <td>0</td>\n",
              "      <td>0</td>\n",
              "      <td>0</td>\n",
              "      <td>0</td>\n",
              "      <td>...</td>\n",
              "      <td>0.0</td>\n",
              "      <td>0.0</td>\n",
              "      <td>0.000000</td>\n",
              "      <td>0.0</td>\n",
              "      <td>0.0</td>\n",
              "      <td>0.000000</td>\n",
              "      <td>0.0</td>\n",
              "      <td>0.0</td>\n",
              "      <td>0.0</td>\n",
              "      <td>0.0</td>\n",
              "    </tr>\n",
              "    <tr>\n",
              "      <th>1</th>\n",
              "      <td>1</td>\n",
              "      <td>0</td>\n",
              "      <td>0</td>\n",
              "      <td>0</td>\n",
              "      <td>0</td>\n",
              "      <td>0</td>\n",
              "      <td>0</td>\n",
              "      <td>0</td>\n",
              "      <td>0</td>\n",
              "      <td>0</td>\n",
              "      <td>...</td>\n",
              "      <td>0.0</td>\n",
              "      <td>0.0</td>\n",
              "      <td>0.000000</td>\n",
              "      <td>0.0</td>\n",
              "      <td>0.0</td>\n",
              "      <td>0.596349</td>\n",
              "      <td>0.0</td>\n",
              "      <td>0.0</td>\n",
              "      <td>0.0</td>\n",
              "      <td>0.0</td>\n",
              "    </tr>\n",
              "    <tr>\n",
              "      <th>2</th>\n",
              "      <td>0</td>\n",
              "      <td>0</td>\n",
              "      <td>1</td>\n",
              "      <td>0</td>\n",
              "      <td>0</td>\n",
              "      <td>0</td>\n",
              "      <td>0</td>\n",
              "      <td>0</td>\n",
              "      <td>0</td>\n",
              "      <td>0</td>\n",
              "      <td>...</td>\n",
              "      <td>0.0</td>\n",
              "      <td>0.0</td>\n",
              "      <td>0.000000</td>\n",
              "      <td>0.0</td>\n",
              "      <td>0.0</td>\n",
              "      <td>0.000000</td>\n",
              "      <td>0.0</td>\n",
              "      <td>0.0</td>\n",
              "      <td>0.0</td>\n",
              "      <td>0.0</td>\n",
              "    </tr>\n",
              "    <tr>\n",
              "      <th>3</th>\n",
              "      <td>0</td>\n",
              "      <td>0</td>\n",
              "      <td>0</td>\n",
              "      <td>0</td>\n",
              "      <td>1</td>\n",
              "      <td>0</td>\n",
              "      <td>0</td>\n",
              "      <td>0</td>\n",
              "      <td>0</td>\n",
              "      <td>0</td>\n",
              "      <td>...</td>\n",
              "      <td>0.0</td>\n",
              "      <td>0.0</td>\n",
              "      <td>0.551342</td>\n",
              "      <td>0.0</td>\n",
              "      <td>0.0</td>\n",
              "      <td>0.000000</td>\n",
              "      <td>0.0</td>\n",
              "      <td>0.0</td>\n",
              "      <td>0.0</td>\n",
              "      <td>0.0</td>\n",
              "    </tr>\n",
              "    <tr>\n",
              "      <th>4</th>\n",
              "      <td>0</td>\n",
              "      <td>0</td>\n",
              "      <td>0</td>\n",
              "      <td>0</td>\n",
              "      <td>1</td>\n",
              "      <td>0</td>\n",
              "      <td>0</td>\n",
              "      <td>0</td>\n",
              "      <td>0</td>\n",
              "      <td>0</td>\n",
              "      <td>...</td>\n",
              "      <td>0.0</td>\n",
              "      <td>0.0</td>\n",
              "      <td>0.551342</td>\n",
              "      <td>0.0</td>\n",
              "      <td>0.0</td>\n",
              "      <td>0.000000</td>\n",
              "      <td>0.0</td>\n",
              "      <td>0.0</td>\n",
              "      <td>0.0</td>\n",
              "      <td>0.0</td>\n",
              "    </tr>\n",
              "  </tbody>\n",
              "</table>\n",
              "<p>5 rows × 197 columns</p>\n",
              "</div>"
            ],
            "text/plain": [
              "   Product_Bank account or service  Product_Consumer Loan  \\\n",
              "0                                0                      0   \n",
              "1                                1                      0   \n",
              "2                                0                      0   \n",
              "3                                0                      0   \n",
              "4                                0                      0   \n",
              "\n",
              "   Product_Credit card  Product_Credit reporting  Product_Debt collection  \\\n",
              "0                    0                         1                        0   \n",
              "1                    0                         0                        0   \n",
              "2                    1                         0                        0   \n",
              "3                    0                         0                        1   \n",
              "4                    0                         0                        1   \n",
              "\n",
              "   Product_Money transfers  Product_Mortgage  Product_Other financial service  \\\n",
              "0                        0                 0                                0   \n",
              "1                        0                 0                                0   \n",
              "2                        0                 0                                0   \n",
              "3                        0                 0                                0   \n",
              "4                        0                 0                                0   \n",
              "\n",
              "   Product_Payday loan  Product_Prepaid card  ...  Feature159  Feature160  \\\n",
              "0                    0                     0  ...         0.0         0.0   \n",
              "1                    0                     0  ...         0.0         0.0   \n",
              "2                    0                     0  ...         0.0         0.0   \n",
              "3                    0                     0  ...         0.0         0.0   \n",
              "4                    0                     0  ...         0.0         0.0   \n",
              "\n",
              "   Feature161  Feature162  Feature163  Feature164  Feature165  Feature166  \\\n",
              "0    0.000000         0.0         0.0    0.000000         0.0         0.0   \n",
              "1    0.000000         0.0         0.0    0.596349         0.0         0.0   \n",
              "2    0.000000         0.0         0.0    0.000000         0.0         0.0   \n",
              "3    0.551342         0.0         0.0    0.000000         0.0         0.0   \n",
              "4    0.551342         0.0         0.0    0.000000         0.0         0.0   \n",
              "\n",
              "   Feature167  Feature168  \n",
              "0         0.0         0.0  \n",
              "1         0.0         0.0  \n",
              "2         0.0         0.0  \n",
              "3         0.0         0.0  \n",
              "4         0.0         0.0  \n",
              "\n",
              "[5 rows x 197 columns]"
            ]
          },
          "execution_count": 56,
          "metadata": {},
          "output_type": "execute_result"
        }
      ],
      "source": [
        "train.head()"
      ]
    },
    {
      "cell_type": "code",
      "execution_count": null,
      "metadata": {
        "id": "Kl8Zh1-MDMN0",
        "outputId": "6175231c-21e5-4576-b01a-e917204df847"
      },
      "outputs": [
        {
          "data": {
            "text/html": [
              "<div>\n",
              "<style scoped>\n",
              "    .dataframe tbody tr th:only-of-type {\n",
              "        vertical-align: middle;\n",
              "    }\n",
              "\n",
              "    .dataframe tbody tr th {\n",
              "        vertical-align: top;\n",
              "    }\n",
              "\n",
              "    .dataframe thead th {\n",
              "        text-align: right;\n",
              "    }\n",
              "</style>\n",
              "<table border=\"1\" class=\"dataframe\">\n",
              "  <thead>\n",
              "    <tr style=\"text-align: right;\">\n",
              "      <th></th>\n",
              "      <th>Product_Bank account or service</th>\n",
              "      <th>Product_Consumer Loan</th>\n",
              "      <th>Product_Credit card</th>\n",
              "      <th>Product_Credit reporting</th>\n",
              "      <th>Product_Debt collection</th>\n",
              "      <th>Product_Money transfers</th>\n",
              "      <th>Product_Mortgage</th>\n",
              "      <th>Product_Other financial service</th>\n",
              "      <th>Product_Payday loan</th>\n",
              "      <th>Product_Prepaid card</th>\n",
              "      <th>...</th>\n",
              "      <th>Feature159</th>\n",
              "      <th>Feature160</th>\n",
              "      <th>Feature161</th>\n",
              "      <th>Feature162</th>\n",
              "      <th>Feature163</th>\n",
              "      <th>Feature164</th>\n",
              "      <th>Feature165</th>\n",
              "      <th>Feature166</th>\n",
              "      <th>Feature167</th>\n",
              "      <th>Feature168</th>\n",
              "    </tr>\n",
              "  </thead>\n",
              "  <tbody>\n",
              "    <tr>\n",
              "      <th>0</th>\n",
              "      <td>0</td>\n",
              "      <td>0</td>\n",
              "      <td>1</td>\n",
              "      <td>0</td>\n",
              "      <td>0</td>\n",
              "      <td>0</td>\n",
              "      <td>0</td>\n",
              "      <td>0</td>\n",
              "      <td>0</td>\n",
              "      <td>0</td>\n",
              "      <td>...</td>\n",
              "      <td>0.0</td>\n",
              "      <td>0.0</td>\n",
              "      <td>0.000000</td>\n",
              "      <td>0.0</td>\n",
              "      <td>0.0</td>\n",
              "      <td>0.0</td>\n",
              "      <td>0.0</td>\n",
              "      <td>0.000000</td>\n",
              "      <td>0.0</td>\n",
              "      <td>0</td>\n",
              "    </tr>\n",
              "    <tr>\n",
              "      <th>1</th>\n",
              "      <td>0</td>\n",
              "      <td>1</td>\n",
              "      <td>0</td>\n",
              "      <td>0</td>\n",
              "      <td>0</td>\n",
              "      <td>0</td>\n",
              "      <td>0</td>\n",
              "      <td>0</td>\n",
              "      <td>0</td>\n",
              "      <td>0</td>\n",
              "      <td>...</td>\n",
              "      <td>0.0</td>\n",
              "      <td>0.0</td>\n",
              "      <td>0.000000</td>\n",
              "      <td>0.0</td>\n",
              "      <td>0.0</td>\n",
              "      <td>0.0</td>\n",
              "      <td>0.0</td>\n",
              "      <td>0.000000</td>\n",
              "      <td>0.0</td>\n",
              "      <td>0</td>\n",
              "    </tr>\n",
              "    <tr>\n",
              "      <th>2</th>\n",
              "      <td>0</td>\n",
              "      <td>0</td>\n",
              "      <td>1</td>\n",
              "      <td>0</td>\n",
              "      <td>0</td>\n",
              "      <td>0</td>\n",
              "      <td>0</td>\n",
              "      <td>0</td>\n",
              "      <td>0</td>\n",
              "      <td>0</td>\n",
              "      <td>...</td>\n",
              "      <td>0.0</td>\n",
              "      <td>0.0</td>\n",
              "      <td>0.000000</td>\n",
              "      <td>0.0</td>\n",
              "      <td>0.0</td>\n",
              "      <td>0.0</td>\n",
              "      <td>0.0</td>\n",
              "      <td>0.000000</td>\n",
              "      <td>0.0</td>\n",
              "      <td>0</td>\n",
              "    </tr>\n",
              "    <tr>\n",
              "      <th>3</th>\n",
              "      <td>0</td>\n",
              "      <td>1</td>\n",
              "      <td>0</td>\n",
              "      <td>0</td>\n",
              "      <td>0</td>\n",
              "      <td>0</td>\n",
              "      <td>0</td>\n",
              "      <td>0</td>\n",
              "      <td>0</td>\n",
              "      <td>0</td>\n",
              "      <td>...</td>\n",
              "      <td>0.0</td>\n",
              "      <td>0.0</td>\n",
              "      <td>0.406735</td>\n",
              "      <td>0.0</td>\n",
              "      <td>0.0</td>\n",
              "      <td>0.0</td>\n",
              "      <td>0.0</td>\n",
              "      <td>0.413484</td>\n",
              "      <td>0.0</td>\n",
              "      <td>0</td>\n",
              "    </tr>\n",
              "    <tr>\n",
              "      <th>4</th>\n",
              "      <td>0</td>\n",
              "      <td>0</td>\n",
              "      <td>0</td>\n",
              "      <td>0</td>\n",
              "      <td>1</td>\n",
              "      <td>0</td>\n",
              "      <td>0</td>\n",
              "      <td>0</td>\n",
              "      <td>0</td>\n",
              "      <td>0</td>\n",
              "      <td>...</td>\n",
              "      <td>0.0</td>\n",
              "      <td>0.0</td>\n",
              "      <td>0.000000</td>\n",
              "      <td>0.0</td>\n",
              "      <td>0.0</td>\n",
              "      <td>0.0</td>\n",
              "      <td>0.0</td>\n",
              "      <td>0.000000</td>\n",
              "      <td>0.0</td>\n",
              "      <td>0</td>\n",
              "    </tr>\n",
              "  </tbody>\n",
              "</table>\n",
              "<p>5 rows × 196 columns</p>\n",
              "</div>"
            ],
            "text/plain": [
              "   Product_Bank account or service  Product_Consumer Loan  \\\n",
              "0                                0                      0   \n",
              "1                                0                      1   \n",
              "2                                0                      0   \n",
              "3                                0                      1   \n",
              "4                                0                      0   \n",
              "\n",
              "   Product_Credit card  Product_Credit reporting  Product_Debt collection  \\\n",
              "0                    1                         0                        0   \n",
              "1                    0                         0                        0   \n",
              "2                    1                         0                        0   \n",
              "3                    0                         0                        0   \n",
              "4                    0                         0                        1   \n",
              "\n",
              "   Product_Money transfers  Product_Mortgage  Product_Other financial service  \\\n",
              "0                        0                 0                                0   \n",
              "1                        0                 0                                0   \n",
              "2                        0                 0                                0   \n",
              "3                        0                 0                                0   \n",
              "4                        0                 0                                0   \n",
              "\n",
              "   Product_Payday loan  Product_Prepaid card  ...  Feature159  Feature160  \\\n",
              "0                    0                     0  ...         0.0         0.0   \n",
              "1                    0                     0  ...         0.0         0.0   \n",
              "2                    0                     0  ...         0.0         0.0   \n",
              "3                    0                     0  ...         0.0         0.0   \n",
              "4                    0                     0  ...         0.0         0.0   \n",
              "\n",
              "   Feature161  Feature162  Feature163  Feature164  Feature165  Feature166  \\\n",
              "0    0.000000         0.0         0.0         0.0         0.0    0.000000   \n",
              "1    0.000000         0.0         0.0         0.0         0.0    0.000000   \n",
              "2    0.000000         0.0         0.0         0.0         0.0    0.000000   \n",
              "3    0.406735         0.0         0.0         0.0         0.0    0.413484   \n",
              "4    0.000000         0.0         0.0         0.0         0.0    0.000000   \n",
              "\n",
              "   Feature167  Feature168  \n",
              "0         0.0           0  \n",
              "1         0.0           0  \n",
              "2         0.0           0  \n",
              "3         0.0           0  \n",
              "4         0.0           0  \n",
              "\n",
              "[5 rows x 196 columns]"
            ]
          },
          "execution_count": 57,
          "metadata": {},
          "output_type": "execute_result"
        }
      ],
      "source": [
        "test.head()"
      ]
    },
    {
      "cell_type": "markdown",
      "metadata": {
        "id": "7xGU-cPapoqj"
      },
      "source": [
        "#### Observe Shape of new Train and Test Datasets"
      ]
    },
    {
      "cell_type": "code",
      "execution_count": null,
      "metadata": {
        "id": "79J9Tqjzpoqj",
        "outputId": "85bd86fd-6f77-4375-fe1e-29edde0ea5a8"
      },
      "outputs": [
        {
          "data": {
            "text/plain": [
              "(358810, 197)"
            ]
          },
          "execution_count": 58,
          "metadata": {},
          "output_type": "execute_result"
        }
      ],
      "source": [
        "train.shape"
      ]
    },
    {
      "cell_type": "code",
      "execution_count": null,
      "metadata": {
        "id": "iUJCqFlTDMN1",
        "outputId": "6d8dfa6a-e82a-45cf-d41f-df1b83a21692"
      },
      "outputs": [
        {
          "data": {
            "text/plain": [
              "(119606, 196)"
            ]
          },
          "execution_count": 59,
          "metadata": {},
          "output_type": "execute_result"
        }
      ],
      "source": [
        "test.shape"
      ]
    },
    {
      "cell_type": "markdown",
      "metadata": {
        "id": "xfPdNUxBpoql"
      },
      "source": [
        "#### Split the Data Sets Into X and Y by dependent and independent variables\n"
      ]
    },
    {
      "cell_type": "code",
      "execution_count": null,
      "metadata": {
        "id": "MpLp8kmbDMN1"
      },
      "outputs": [],
      "source": [
        "X = train.drop(columns='Consumer disputed?')\n",
        "y = train['Consumer disputed?']\n",
        "X_test = test"
      ]
    },
    {
      "cell_type": "markdown",
      "metadata": {
        "id": "4liyt_jZpoqm"
      },
      "source": [
        "#### Split data into Train and Test datasets\n",
        "(for test data use test excel file data)"
      ]
    },
    {
      "cell_type": "code",
      "execution_count": null,
      "metadata": {
        "id": "-ZmGXmwjpoqn"
      },
      "outputs": [],
      "source": [
        "from sklearn.model_selection import train_test_split\n",
        "\n",
        "X_train, X_val, y_train, y_val = train_test_split(X, y, test_size=0.2, random_state=42)"
      ]
    },
    {
      "cell_type": "markdown",
      "metadata": {
        "id": "hCl_eDoMpoqn"
      },
      "source": [
        "#### Shapes of the datasets"
      ]
    },
    {
      "cell_type": "code",
      "execution_count": null,
      "metadata": {
        "id": "JMK5Jk7opoqo",
        "outputId": "b5d5461c-e770-4aaa-8c33-5024ed1f9cdc"
      },
      "outputs": [
        {
          "data": {
            "text/plain": [
              "((287048, 196), (71762, 196), (287048,), (71762,), (119606, 196))"
            ]
          },
          "execution_count": 62,
          "metadata": {},
          "output_type": "execute_result"
        }
      ],
      "source": [
        "X_train.shape, X_val.shape, y_train.shape, y_val.shape, X_test.shape"
      ]
    },
    {
      "cell_type": "markdown",
      "metadata": {
        "id": "P1IKPOYzpoqk"
      },
      "source": [
        "#### Scaling the Data Sets (note:discard dependent variable before doing standardization)"
      ]
    },
    {
      "cell_type": "markdown",
      "metadata": {
        "id": "10Pj03fYpoqk"
      },
      "source": [
        "#### Do feature selection with help of PCA"
      ]
    },
    {
      "cell_type": "markdown",
      "metadata": {
        "id": "Su_M3P3npoqk"
      },
      "source": [
        "Select top features which are covering 80% of the information\n",
        "(n=53),\n",
        "<br>store this data into new dataframe,"
      ]
    },
    {
      "cell_type": "code",
      "execution_count": null,
      "metadata": {
        "id": "I7ULlKu7poqk"
      },
      "outputs": [],
      "source": [
        "# Import required libraries for Scaling and PCA\n",
        "\n",
        "from sklearn.preprocessing import StandardScaler\n",
        "from sklearn.decomposition import PCA"
      ]
    },
    {
      "cell_type": "code",
      "execution_count": null,
      "metadata": {
        "id": "UALWAJ4HDMN2"
      },
      "outputs": [],
      "source": [
        "# Create the Transformer pipeline\n",
        "\n",
        "from sklearn.pipeline import Pipeline\n",
        "\n",
        "steps=[]\n",
        "# Add Standard scaler and PCA to the pipeline\n",
        "steps.append(('scaler', StandardScaler()))\n",
        "steps.append(('dim_red', PCA(n_components=53)))\n",
        "\n",
        "# Instantiate\n",
        "transformer_pipe = Pipeline(steps)\n",
        "\n",
        "# Fit\n",
        "transformer_pipe.fit(X_train, y_train)\n",
        "\n",
        "# Transform\n",
        "X_train_transformed = transformer_pipe.transform(X_train)\n",
        "X_val_transformed = transformer_pipe.transform(X_val)\n",
        "X_test_transformed = transformer_pipe.transform(X_test)\n",
        "\n",
        "# Save pipeline to pickle file\n",
        "import pickle\n",
        "\n",
        "with open('transformer_pipe.pkl', wb) as f:\n",
        "  pickle.dump(transformer_pipe, f)"
      ]
    },
    {
      "cell_type": "markdown",
      "metadata": {
        "id": "L6d3W9nbpoqp"
      },
      "source": [
        "**Model building**\n",
        "Build given models and mesure their test and validation accuracy\n",
        "build given models:\n",
        "1. LogisticRegression\n",
        "2. DecisionTreeClassifier\n",
        "3. RandomForestClassifier\n",
        "4. AdaBoostClassifier\n",
        "5. GradientBoostingClassifier\n",
        "6. KNeighborsClassifier\n",
        "7. XGBClassifier"
      ]
    },
    {
      "cell_type": "code",
      "execution_count": null,
      "metadata": {
        "id": "WXgaZSqlpoqq"
      },
      "outputs": [],
      "source": [
        "# Import algorithms to try\n",
        "\n",
        "from sklearn.linear_model import LogisticRegression\n",
        "from sklearn.tree import DecisionTreeClassifier\n",
        "from sklearn.ensemble import RandomForestClassifier\n",
        "from sklearn.ensemble import AdaBoostClassifier\n",
        "from sklearn.ensemble import GradientBoostingClassifier\n",
        "from sklearn.neighbors import KNeighborsClassifier\n",
        "from xgboost import XGBClassifier\n",
        "\n",
        "from sklearn.metrics import accuracy_score\n",
        "import time"
      ]
    },
    {
      "cell_type": "markdown",
      "source": [
        "**LOGISTIC REGRESSION**\n",
        "\n",
        "---\n",
        "\n",
        "\n",
        "\n",
        "**solver** {‘lbfgs’, ‘liblinear’, ‘newton-cg’, ‘newton-cholesky’, ‘sag’, ‘saga’}, default=’lbfgs’\n",
        "- Algorithm to use in the optimization problem. Default is ‘lbfgs’.\n",
        "- For small datasets, ‘liblinear’ is a good choice, whereas ‘sag’ and ‘saga’ are faster for large ones;\n",
        "- For multiclass problems, only ‘newton-cg’, ‘sag’, ‘saga’ and ‘lbfgs’ handle multinomial loss;\n",
        "- ‘liblinear’ and ‘newton-cholesky’ can only handle binary classification by default. To apply a one-versus-rest scheme for the multiclass setting one can wrapt it with the OneVsRestClassifier.\n",
        "- ‘newton-cholesky’ is a good choice for n_samples >> n_features, especially with one-hot encoded categorical features with rare categories. Be aware that the memory usage of this solver has a quadratic dependency on n_features because it explicitly computes the Hessian matrix.\n",
        "\n",
        "\n",
        "**C** float, default=1.0\n",
        "- Inverse of regularization strength; must be a positive float. Like in support vector machines, smaller values specify stronger regularization.\n",
        "\n",
        "**penalty** {‘l1’, ‘l2’, ‘elasticnet’, None}, default=’l2’\n",
        "\n",
        "- None: no penalty is added;\n",
        "- 'l2': add a L2 penalty term and it is the default choice;\n",
        "- 'l1': add a L1 penalty term;\n",
        "- 'elasticnet': both L1 and L2 penalty terms are added."
      ],
      "metadata": {
        "id": "eGOnUR9HDi0H"
      }
    },
    {
      "cell_type": "code",
      "execution_count": null,
      "metadata": {
        "id": "LeR9VtkuDMN3"
      },
      "outputs": [],
      "source": [
        "# Define algorithms to try\n",
        "\n",
        "algorithms = [\n",
        "             ('Logistic Regression', LogisticRegression(solver='newton-cholesky', penalty='l2', C=0.001)),\n",
        "\n",
        "             ('Decision Tree', DecisionTreeClassifier(max_depth=5, min_samples_leaf=4, min_samples_split=10)),\n",
        "\n",
        "             ('Random Forest', RandomForestClassifier(n_estimators=100,max_depth=5, min_samples_leaf=4, min_samples_split=10)),\n",
        "\n",
        "             ('Ada Boost', AdaBoostClassifier(n_estimators=100, learning_rate=0.5)),\n",
        "\n",
        "             ('Gradient Boost', GradientBoostingClassifier(max_depth=5)),\n",
        "\n",
        "             ('K-Nearest Neighbors', KNeighborsClassifier(n_neighbors=5)),\n",
        "\n",
        "             ('XG Boost', XGBClassifier(n_estimators=100, max_depth=5, learning_rate=0.5, objective='binary:logistic'))\n",
        "             ]"
      ]
    },
    {
      "cell_type": "markdown",
      "source": [
        "**DECISION TREES**\n",
        "\n",
        "---\n",
        "\n",
        "\n",
        "\n",
        "min_samples_split :\n",
        "- min no. of observations that will lead to a split\n",
        "- increase to prevent overfitting\n",
        "- 0.1/ 0.01 of total observations\n",
        "\n",
        "min_samples_leaf:\n",
        "- min no. of obserations for node to become a leaf node\n",
        "- takes odd values (3, 5, ..) for imbalanced datasets\n",
        "\n",
        "\n",
        "**XGBOOST**\n",
        "\n",
        "---\n",
        "\n",
        "objective:\n",
        "- specifies the learning task eg. reg: logistic, multi: softmax"
      ],
      "metadata": {
        "id": "zZ3-fevsHDbn"
      }
    },
    {
      "cell_type": "code",
      "execution_count": null,
      "metadata": {
        "id": "JyQOUVZPDMN3"
      },
      "outputs": [],
      "source": [
        "# Define a function to evaluate model performance\n",
        "\n",
        "def evaluate_model(model, X_train, X_test, y_train, y_test):\n",
        "    # Fit\n",
        "    start_time = time.time()\n",
        "    model.fit(X_train, y_train)\n",
        "    runtime = time.time()-start_time\n",
        "\n",
        "    #Predict\n",
        "    y_test_pred = model.predict(X_test)\n",
        "    y_train_pred = model.predict(X_train)\n",
        "\n",
        "    # Evaluate\n",
        "    return {'Test Accuracy Score' : accuracy_score(y_test, y_test_pred),\n",
        "            'Train Accuracy Score' : accuracy_score(y_train, y_train_pred),\n",
        "            'Run time (in secs)' : runtime\n",
        "           }"
      ]
    },
    {
      "cell_type": "code",
      "execution_count": null,
      "metadata": {
        "scrolled": false,
        "id": "liJpbdSHDMN3",
        "outputId": "31c830e8-87d0-4869-e2ba-aa405e2ab0ee"
      },
      "outputs": [
        {
          "data": {
            "text/html": [
              "<div>\n",
              "<style scoped>\n",
              "    .dataframe tbody tr th:only-of-type {\n",
              "        vertical-align: middle;\n",
              "    }\n",
              "\n",
              "    .dataframe tbody tr th {\n",
              "        vertical-align: top;\n",
              "    }\n",
              "\n",
              "    .dataframe thead th {\n",
              "        text-align: right;\n",
              "    }\n",
              "</style>\n",
              "<table border=\"1\" class=\"dataframe\">\n",
              "  <thead>\n",
              "    <tr style=\"text-align: right;\">\n",
              "      <th></th>\n",
              "      <th>Algorithm</th>\n",
              "      <th>Test Accuracy Score</th>\n",
              "      <th>Train Accuracy Score</th>\n",
              "      <th>Run time (in secs)</th>\n",
              "    </tr>\n",
              "  </thead>\n",
              "  <tbody>\n",
              "    <tr>\n",
              "      <th>0</th>\n",
              "      <td>Logistic Regression</td>\n",
              "      <td>0.787631</td>\n",
              "      <td>0.787729</td>\n",
              "      <td>1.566234</td>\n",
              "    </tr>\n",
              "    <tr>\n",
              "      <th>1</th>\n",
              "      <td>Decision Tree</td>\n",
              "      <td>0.787631</td>\n",
              "      <td>0.787736</td>\n",
              "      <td>7.351945</td>\n",
              "    </tr>\n",
              "    <tr>\n",
              "      <th>2</th>\n",
              "      <td>Random Forest</td>\n",
              "      <td>0.787631</td>\n",
              "      <td>0.787729</td>\n",
              "      <td>72.157856</td>\n",
              "    </tr>\n",
              "    <tr>\n",
              "      <th>3</th>\n",
              "      <td>Ada Boost</td>\n",
              "      <td>0.787631</td>\n",
              "      <td>0.787729</td>\n",
              "      <td>152.260534</td>\n",
              "    </tr>\n",
              "    <tr>\n",
              "      <th>4</th>\n",
              "      <td>Gradient Boost</td>\n",
              "      <td>0.787506</td>\n",
              "      <td>0.787983</td>\n",
              "      <td>620.047481</td>\n",
              "    </tr>\n",
              "    <tr>\n",
              "      <th>6</th>\n",
              "      <td>XG Boost</td>\n",
              "      <td>0.786837</td>\n",
              "      <td>0.788861</td>\n",
              "      <td>5.071975</td>\n",
              "    </tr>\n",
              "    <tr>\n",
              "      <th>5</th>\n",
              "      <td>K-Nearest Neighbors</td>\n",
              "      <td>0.748377</td>\n",
              "      <td>0.760528</td>\n",
              "      <td>0.045469</td>\n",
              "    </tr>\n",
              "  </tbody>\n",
              "</table>\n",
              "</div>"
            ],
            "text/plain": [
              "             Algorithm  Test Accuracy Score  Train Accuracy Score  \\\n",
              "0  Logistic Regression             0.787631              0.787729   \n",
              "1        Decision Tree             0.787631              0.787736   \n",
              "2        Random Forest             0.787631              0.787729   \n",
              "3            Ada Boost             0.787631              0.787729   \n",
              "4       Gradient Boost             0.787506              0.787983   \n",
              "6             XG Boost             0.786837              0.788861   \n",
              "5  K-Nearest Neighbors             0.748377              0.760528   \n",
              "\n",
              "   Run time (in secs)  \n",
              "0            1.566234  \n",
              "1            7.351945  \n",
              "2           72.157856  \n",
              "3          152.260534  \n",
              "4          620.047481  \n",
              "6            5.071975  \n",
              "5            0.045469  "
            ]
          },
          "execution_count": 68,
          "metadata": {},
          "output_type": "execute_result"
        }
      ],
      "source": [
        "# Evaluate each model in algorithms\n",
        "\n",
        "results=[]\n",
        "for name, model in algorithms:\n",
        "    metrics = evaluate_model(model, X_train_transformed, X_val_transformed, y_train, y_val)\n",
        "\n",
        "    results.append({'Algorithm' : name,\n",
        "                    **metrics})\n",
        "\n",
        "# Create a dataframe for comparison\n",
        "model_comparison = pd.DataFrame(results).sort_values('Test Accuracy Score', ascending=False)\n",
        "model_comparison"
      ]
    },
    {
      "cell_type": "markdown",
      "metadata": {
        "id": "wBP2gKEKDMN3"
      },
      "source": [
        "We see that Logistic Regression has the best performance in terms of accuracy for both training and test datasets. Hence, we will use Logistic Regression as the final model for prediction."
      ]
    },
    {
      "cell_type": "markdown",
      "metadata": {
        "id": "NBfwkKjwpoqr"
      },
      "source": [
        "#### Final Model and Prediction for test data file"
      ]
    },
    {
      "cell_type": "code",
      "execution_count": null,
      "metadata": {
        "id": "J1mL-GJ2poqr",
        "outputId": "b8e8c81f-83c9-4c97-d97d-3ed17d28c2fb"
      },
      "outputs": [
        {
          "data": {
            "text/html": [
              "<div>\n",
              "<style scoped>\n",
              "    .dataframe tbody tr th:only-of-type {\n",
              "        vertical-align: middle;\n",
              "    }\n",
              "\n",
              "    .dataframe tbody tr th {\n",
              "        vertical-align: top;\n",
              "    }\n",
              "\n",
              "    .dataframe thead th {\n",
              "        text-align: right;\n",
              "    }\n",
              "</style>\n",
              "<table border=\"1\" class=\"dataframe\">\n",
              "  <thead>\n",
              "    <tr style=\"text-align: right;\">\n",
              "      <th></th>\n",
              "      <th>Date received</th>\n",
              "      <th>Product</th>\n",
              "      <th>Sub-product</th>\n",
              "      <th>Issue</th>\n",
              "      <th>Sub-issue</th>\n",
              "      <th>Consumer complaint narrative</th>\n",
              "      <th>Company public response</th>\n",
              "      <th>Company</th>\n",
              "      <th>State</th>\n",
              "      <th>ZIP code</th>\n",
              "      <th>Tags</th>\n",
              "      <th>Consumer consent provided?</th>\n",
              "      <th>Submitted via</th>\n",
              "      <th>Date sent to company</th>\n",
              "      <th>Company response to consumer</th>\n",
              "      <th>Timely response?</th>\n",
              "      <th>Complaint ID</th>\n",
              "      <th>Consumer disputed</th>\n",
              "    </tr>\n",
              "  </thead>\n",
              "  <tbody>\n",
              "    <tr>\n",
              "      <th>0</th>\n",
              "      <td>2015-01-17</td>\n",
              "      <td>Credit card</td>\n",
              "      <td>NaN</td>\n",
              "      <td>Customer service / Customer relations</td>\n",
              "      <td>NaN</td>\n",
              "      <td>NaN</td>\n",
              "      <td>NaN</td>\n",
              "      <td>Citibank</td>\n",
              "      <td>TX</td>\n",
              "      <td>75241</td>\n",
              "      <td>NaN</td>\n",
              "      <td>NaN</td>\n",
              "      <td>Web</td>\n",
              "      <td>2015-01-17</td>\n",
              "      <td>Closed with monetary relief</td>\n",
              "      <td>Yes</td>\n",
              "      <td>1198133</td>\n",
              "      <td>0</td>\n",
              "    </tr>\n",
              "    <tr>\n",
              "      <th>1</th>\n",
              "      <td>2016-06-22</td>\n",
              "      <td>Consumer Loan</td>\n",
              "      <td>Title loan</td>\n",
              "      <td>Payment to acct not credited</td>\n",
              "      <td>NaN</td>\n",
              "      <td>NaN</td>\n",
              "      <td>Company believes it acted appropriately as aut...</td>\n",
              "      <td>Larsen MacColl Partners II, L.P.</td>\n",
              "      <td>TX</td>\n",
              "      <td>76548</td>\n",
              "      <td>Servicemember</td>\n",
              "      <td>NaN</td>\n",
              "      <td>Phone</td>\n",
              "      <td>2016-06-22</td>\n",
              "      <td>Closed with explanation</td>\n",
              "      <td>Yes</td>\n",
              "      <td>1979989</td>\n",
              "      <td>0</td>\n",
              "    </tr>\n",
              "    <tr>\n",
              "      <th>2</th>\n",
              "      <td>2015-09-04</td>\n",
              "      <td>Credit card</td>\n",
              "      <td>NaN</td>\n",
              "      <td>Credit line increase/decrease</td>\n",
              "      <td>NaN</td>\n",
              "      <td>I WANT TO REQUEST A CREDIT LINE INCREASE OF XX...</td>\n",
              "      <td>NaN</td>\n",
              "      <td>Capital One</td>\n",
              "      <td>NC</td>\n",
              "      <td>271XX</td>\n",
              "      <td>NaN</td>\n",
              "      <td>Consent provided</td>\n",
              "      <td>Web</td>\n",
              "      <td>2015-09-04</td>\n",
              "      <td>Closed with explanation</td>\n",
              "      <td>Yes</td>\n",
              "      <td>1552090</td>\n",
              "      <td>0</td>\n",
              "    </tr>\n",
              "    <tr>\n",
              "      <th>3</th>\n",
              "      <td>2016-05-17</td>\n",
              "      <td>Consumer Loan</td>\n",
              "      <td>Installment loan</td>\n",
              "      <td>Problems when you are unable to pay</td>\n",
              "      <td>NaN</td>\n",
              "      <td>I have asked One Main Financial not to call my...</td>\n",
              "      <td>NaN</td>\n",
              "      <td>OneMain Financial Holdings, LLC</td>\n",
              "      <td>MO</td>\n",
              "      <td>634XX</td>\n",
              "      <td>NaN</td>\n",
              "      <td>Consent provided</td>\n",
              "      <td>Web</td>\n",
              "      <td>2016-05-20</td>\n",
              "      <td>Closed with non-monetary relief</td>\n",
              "      <td>Yes</td>\n",
              "      <td>1929306</td>\n",
              "      <td>0</td>\n",
              "    </tr>\n",
              "    <tr>\n",
              "      <th>4</th>\n",
              "      <td>2016-07-07</td>\n",
              "      <td>Debt collection</td>\n",
              "      <td>Other (i.e. phone, health club, etc.)</td>\n",
              "      <td>Improper contact or sharing of info</td>\n",
              "      <td>Contacted employer after asked not to</td>\n",
              "      <td>I have received several calls from a XXXX XXXX...</td>\n",
              "      <td>Company has responded to the consumer and the ...</td>\n",
              "      <td>GMA Investments, LLC</td>\n",
              "      <td>SC</td>\n",
              "      <td>296XX</td>\n",
              "      <td>NaN</td>\n",
              "      <td>Consent provided</td>\n",
              "      <td>Web</td>\n",
              "      <td>2016-07-07</td>\n",
              "      <td>Closed with explanation</td>\n",
              "      <td>Yes</td>\n",
              "      <td>2001667</td>\n",
              "      <td>0</td>\n",
              "    </tr>\n",
              "  </tbody>\n",
              "</table>\n",
              "</div>"
            ],
            "text/plain": [
              "  Date received          Product                            Sub-product  \\\n",
              "0    2015-01-17      Credit card                                    NaN   \n",
              "1    2016-06-22    Consumer Loan                             Title loan   \n",
              "2    2015-09-04      Credit card                                    NaN   \n",
              "3    2016-05-17    Consumer Loan                       Installment loan   \n",
              "4    2016-07-07  Debt collection  Other (i.e. phone, health club, etc.)   \n",
              "\n",
              "                                   Issue  \\\n",
              "0  Customer service / Customer relations   \n",
              "1           Payment to acct not credited   \n",
              "2          Credit line increase/decrease   \n",
              "3    Problems when you are unable to pay   \n",
              "4    Improper contact or sharing of info   \n",
              "\n",
              "                               Sub-issue  \\\n",
              "0                                    NaN   \n",
              "1                                    NaN   \n",
              "2                                    NaN   \n",
              "3                                    NaN   \n",
              "4  Contacted employer after asked not to   \n",
              "\n",
              "                        Consumer complaint narrative  \\\n",
              "0                                                NaN   \n",
              "1                                                NaN   \n",
              "2  I WANT TO REQUEST A CREDIT LINE INCREASE OF XX...   \n",
              "3  I have asked One Main Financial not to call my...   \n",
              "4  I have received several calls from a XXXX XXXX...   \n",
              "\n",
              "                             Company public response  \\\n",
              "0                                                NaN   \n",
              "1  Company believes it acted appropriately as aut...   \n",
              "2                                                NaN   \n",
              "3                                                NaN   \n",
              "4  Company has responded to the consumer and the ...   \n",
              "\n",
              "                            Company State ZIP code           Tags  \\\n",
              "0                          Citibank    TX    75241            NaN   \n",
              "1  Larsen MacColl Partners II, L.P.    TX    76548  Servicemember   \n",
              "2                       Capital One    NC    271XX            NaN   \n",
              "3   OneMain Financial Holdings, LLC    MO    634XX            NaN   \n",
              "4              GMA Investments, LLC    SC    296XX            NaN   \n",
              "\n",
              "  Consumer consent provided? Submitted via Date sent to company  \\\n",
              "0                        NaN           Web           2015-01-17   \n",
              "1                        NaN         Phone           2016-06-22   \n",
              "2           Consent provided           Web           2015-09-04   \n",
              "3           Consent provided           Web           2016-05-20   \n",
              "4           Consent provided           Web           2016-07-07   \n",
              "\n",
              "      Company response to consumer Timely response?  Complaint ID  \\\n",
              "0      Closed with monetary relief              Yes       1198133   \n",
              "1          Closed with explanation              Yes       1979989   \n",
              "2          Closed with explanation              Yes       1552090   \n",
              "3  Closed with non-monetary relief              Yes       1929306   \n",
              "4          Closed with explanation              Yes       2001667   \n",
              "\n",
              "   Consumer disputed  \n",
              "0                  0  \n",
              "1                  0  \n",
              "2                  0  \n",
              "3                  0  \n",
              "4                  0  "
            ]
          },
          "execution_count": 69,
          "metadata": {},
          "output_type": "execute_result"
        }
      ],
      "source": [
        "# Final model instantiation\n",
        "lr = LogisticRegression(solver='newton-cholesky', penalty='l2', C=0.001)\n",
        "\n",
        "# Fit\n",
        "lr.fit(X_train_transformed, y_train)\n",
        "\n",
        "# Predict consumer dispute and append to original dataframe\n",
        "test_orig['Consumer disputed'] = lr.predict(X_test_transformed)\n",
        "test_orig.head()"
      ]
    },
    {
      "cell_type": "markdown",
      "metadata": {
        "id": "QEMqjpS5poqr"
      },
      "source": [
        "#### Export Predictions to CSV"
      ]
    },
    {
      "cell_type": "code",
      "execution_count": null,
      "metadata": {
        "id": "UtsmRxQEpoqs"
      },
      "outputs": [],
      "source": [
        "test_orig.to_csv('Consumer_Complaints_predicted.csv', index=False)"
      ]
    },
    {
      "cell_type": "markdown",
      "metadata": {
        "id": "E18QOT7qDMN4"
      },
      "source": [
        "## End of Project"
      ]
    }
  ],
  "metadata": {
    "colab": {
      "provenance": []
    },
    "kernelspec": {
      "display_name": "Python 3 (ipykernel)",
      "language": "python",
      "name": "python3"
    },
    "language_info": {
      "codemirror_mode": {
        "name": "ipython",
        "version": 3
      },
      "file_extension": ".py",
      "mimetype": "text/x-python",
      "name": "python",
      "nbconvert_exporter": "python",
      "pygments_lexer": "ipython3",
      "version": "3.11.5"
    }
  },
  "nbformat": 4,
  "nbformat_minor": 0
}